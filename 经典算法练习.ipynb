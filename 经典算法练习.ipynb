{
 "cells": [
  {
   "cell_type": "markdown",
   "metadata": {},
   "source": [
    "## 快速排序"
   ]
  },
  {
   "cell_type": "code",
   "execution_count": null,
   "metadata": {
    "collapsed": true
   },
   "outputs": [],
   "source": [
    "def quicksort(templist):\n",
    "    if templist==[]:\n",
    "        return templist\n",
    "    temp = templist[0]\n",
    "    i = 0\n",
    "    j = len(templist)-1\n",
    "    while i!=j:\n",
    "        while temp<templist[j]:\n",
    "            j -= 1\n",
    "        while temp>templist[i]:\n",
    "            i += 1\n",
    "        temp0 = templist[j]\n",
    "        templist[j]=templist[i]\n",
    "        templist[i]=temp0\n",
    "            \n",
    "        "
   ]
  }
 ],
 "metadata": {
  "anaconda-cloud": {},
  "kernelspec": {
   "display_name": "Python [conda root]",
   "language": "python",
   "name": "conda-root-py"
  },
  "language_info": {
   "codemirror_mode": {
    "name": "ipython",
    "version": 3
   },
   "file_extension": ".py",
   "mimetype": "text/x-python",
   "name": "python",
   "nbconvert_exporter": "python",
   "pygments_lexer": "ipython3",
   "version": "3.5.2"
  }
 },
 "nbformat": 4,
 "nbformat_minor": 1
}
