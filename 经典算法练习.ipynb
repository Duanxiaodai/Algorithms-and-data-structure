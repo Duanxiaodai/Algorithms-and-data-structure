{
 "cells": [
  {
   "cell_type": "markdown",
   "metadata": {},
   "source": [
    "## 快速排序"
   ]
  },
  {
   "cell_type": "code",
   "execution_count": 1,
   "metadata": {
    "collapsed": false
   },
   "outputs": [
    {
     "name": "stdout",
     "output_type": "stream",
     "text": [
      "[1, 3, 1, 2, 4, 5]\n",
      "[1, 3, 1, 2, 4, 5]\n",
      "[1, 3, 1, 2, 4, 5]\n",
      "[1, 1, 1, 3, 4, 5]\n",
      "[1, 1, 2, 3, 4, 5]\n"
     ]
    }
   ],
   "source": [
    "def quicksortCore(templist,left,right):\n",
    "    key = templist[right]\n",
    "    while left < right:\n",
    "        print(templist)\n",
    "        while left<right and templist[left]<=key:\n",
    "            left+=1\n",
    "        templist[right]=templist[left]\n",
    "        while left<right and templist[right]>=key:\n",
    "            right-=1\n",
    "        templist[left]=templist[right]\n",
    "    templist[right] = key\n",
    "    return right\n",
    "def quickSort(templist,left,right):\n",
    "    if left>=right:\n",
    "        return True\n",
    "    mid = quicksortCore(templist,left,right)\n",
    "    quickSort(templist,left,mid-1)\n",
    "    quickSort(templist,mid+1,right)\n",
    "\n",
    "mylist = [1,3,1,2,4,5]\n",
    "quickSort(mylist,0,len(mylist)-1)"
   ]
  },
  {
   "cell_type": "code",
   "execution_count": null,
   "metadata": {
    "collapsed": true
   },
   "outputs": [],
   "source": []
  }
 ],
 "metadata": {
  "anaconda-cloud": {},
  "kernelspec": {
   "display_name": "Python [conda root]",
   "language": "python",
   "name": "conda-root-py"
  },
  "language_info": {
   "codemirror_mode": {
    "name": "ipython",
    "version": 3
   },
   "file_extension": ".py",
   "mimetype": "text/x-python",
   "name": "python",
   "nbconvert_exporter": "python",
   "pygments_lexer": "ipython3",
   "version": "3.5.2"
  }
 },
 "nbformat": 4,
 "nbformat_minor": 1
}
