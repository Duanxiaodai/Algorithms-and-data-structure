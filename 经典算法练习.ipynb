{
 "cells": [
  {
   "cell_type": "markdown",
   "metadata": {},
   "source": [
    "## 快速排序"
   ]
  },
  {
   "cell_type": "code",
   "execution_count": 1,
   "metadata": {
    "collapsed": false
   },
   "outputs": [
    {
     "name": "stdout",
     "output_type": "stream",
     "text": [
      "[1, 3, 1, 2, 4, 5]\n",
      "[1, 3, 1, 2, 4, 5]\n",
      "[1, 3, 1, 2, 4, 5]\n",
      "[1, 1, 1, 3, 4, 5]\n",
      "[1, 1, 2, 3, 4, 5]\n"
     ]
    }
   ],
   "source": [
    "def quicksortCore(templist,left,right):\n",
    "    key = templist[right]\n",
    "    while left < right:\n",
    "        print(templist)\n",
    "        while left<right and templist[left]<=key:\n",
    "            left+=1\n",
    "        templist[right]=templist[left]\n",
    "        while left<right and templist[right]>=key:\n",
    "            right-=1\n",
    "        templist[left]=templist[right]\n",
    "    templist[right] = key\n",
    "    return right\n",
    "def quickSort(templist,left,right):\n",
    "    if left>=right:\n",
    "        return True\n",
    "    mid = quicksortCore(templist,left,right)\n",
    "    quickSort(templist,left,mid-1)\n",
    "    quickSort(templist,mid+1,right)\n",
    "\n",
    "mylist = [1,3,1,2,4,5]\n",
    "quickSort(mylist,0,len(mylist)-1)"
   ]
  },
  {
   "cell_type": "markdown",
   "metadata": {
    "collapsed": true
   },
   "source": [
    "## 堆排序 (大顶堆)"
   ]
  },
  {
   "cell_type": "code",
   "execution_count": 1,
   "metadata": {
    "collapsed": false
   },
   "outputs": [
    {
     "name": "stdout",
     "output_type": "stream",
     "text": [
      "[16, 7, 3, 20, 17, 8]\n",
      "[3, 7, 8, 16, 17, 20]\n"
     ]
    }
   ],
   "source": [
    "def sift_down(arr, start, end):\n",
    "    root = start\n",
    "    while True:\n",
    "        # 从root开始对最大堆调整\n",
    "        child = 2 * root + 1\n",
    "        if child > end:\n",
    "            break\n",
    " \n",
    "        # 找出两个child中交大的一个\n",
    "        if child + 1 <= end and arr[child] < arr[child + 1]:\n",
    "            child += 1\n",
    " \n",
    "        if arr[root] < arr[child]:\n",
    "            # 最大堆小于较大的child, 交换顺序\n",
    "            arr[root], arr[child] = arr[child], arr[root]\n",
    " \n",
    "            # 正在调整的节点设置为root\n",
    "            root = child\n",
    "        else:\n",
    "            # 无需调整的时候, 退出\n",
    "            break\n",
    " \n",
    " \n",
    "def heap_sort(arr):\n",
    "    # 从最后一个有子节点的孩子还是调整最大堆\n",
    "    first = len(arr) // 2 - 1\n",
    "    for start in range(first, -1, -1):\n",
    "        sift_down(arr, start, len(arr) - 1)\n",
    " \n",
    "    # 将最大的放到堆的最后一个, 堆-1, 继续调整排序\n",
    "    for end in range(len(arr) -1, 0, -1):\n",
    "        arr[0], arr[end] = arr[end], arr[0]\n",
    "        sift_down(arr, 0, end - 1)\n",
    "def main():\n",
    "    # [7, 95, 73, 65, 60, 77, 28, 62, 43]\n",
    "    # [3, 1, 4, 9, 6, 7, 5, 8, 2, 10]\n",
    "    l = [3, 1, 4, 9, 6, 7, 5, 8, 2, 10]\n",
    "    print (l)\n",
    "    heap_sort(l)\n",
    "    print (l)\n",
    "    \n",
    "if __name__ == \"__main__\":\n",
    "    array = [16, 7, 3, 20, 17, 8]\n",
    "    print(array)\n",
    "    heap_sort(array)\n",
    "    print(array)"
   ]
  },
  {
   "cell_type": "code",
   "execution_count": 8,
   "metadata": {
    "collapsed": false
   },
   "outputs": [
    {
     "name": "stdout",
     "output_type": "stream",
     "text": [
      "[16, 7, 3, 20, 17, 8]\n",
      "[20, 17, 8, 7, 16, 3]\n"
     ]
    }
   ],
   "source": [
    "def maxheap(data):\n",
    "    for i in range(len(data)//2-1,-1,-1):\n",
    "        shif_down_up(data,i,len(data)-1)\n",
    "    \n",
    "#     for end in range(len(data)-1,0,-1):\n",
    "#         data[0],data[end] = data[end],data[0]\n",
    "#         shif_down_up(data,0,end-1)\n",
    "\n",
    "def shif_down_up(data,start,end):  ## 构建最大堆\n",
    "    root = start\n",
    "    while True:\n",
    "        child = 2*root + 1\n",
    "        if child > end:\n",
    "            break\n",
    "        if child+1<end and data[child]<data[child+1]:\n",
    "            child += 1\n",
    "        if data[child]>data[root]:\n",
    "            data[child],data[root] = data[root],data[child]\n",
    "            root = child    \n",
    "        else:\n",
    "            break\n",
    "def shif_down_up(data,start,end):   ##构建最小堆\n",
    "    root = start\n",
    "    while True:\n",
    "        child = 2*root + 1\n",
    "        if child > end:\n",
    "            break\n",
    "        if child+1<end and data[child]>data[child+1]:\n",
    "            child += 1\n",
    "        if data[child]<data[root]:\n",
    "            data[child],data[root] = data[root],data[child]\n",
    "            root = child    \n",
    "        else:\n",
    "            break\n",
    "def arr2maxheap(data):\n",
    "    for i in range(len(data)//2-1,-1,-1):\n",
    "        root = i \n",
    "        while True:\n",
    "            child = 2 * root + 1\n",
    "            if child>len(data)-1:\n",
    "                break\n",
    "            if child+1<len(data)-1 and data[child]<data[child+1]:\n",
    "                child+=1\n",
    "            if data[child]>data[root]:\n",
    "                data[child],data[root] = data[root],data[child]\n",
    "                root = child\n",
    "            else:\n",
    "                break\n",
    "array = [16, 7, 3, 20, 17, 8]\n",
    "print(array)\n",
    "arr2maxheap(array)\n",
    "print(array)"
   ]
  },
  {
   "cell_type": "code",
   "execution_count": null,
   "metadata": {
    "collapsed": true
   },
   "outputs": [],
   "source": []
  }
 ],
 "metadata": {
  "anaconda-cloud": {},
  "kernelspec": {
   "display_name": "Python [conda root]",
   "language": "python",
   "name": "conda-root-py"
  },
  "language_info": {
   "codemirror_mode": {
    "name": "ipython",
    "version": 3
   },
   "file_extension": ".py",
   "mimetype": "text/x-python",
   "name": "python",
   "nbconvert_exporter": "python",
   "pygments_lexer": "ipython3",
   "version": "3.5.2"
  }
 },
 "nbformat": 4,
 "nbformat_minor": 1
}
