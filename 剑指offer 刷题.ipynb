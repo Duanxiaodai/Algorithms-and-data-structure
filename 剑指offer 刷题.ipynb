{
 "cells": [
  {
   "cell_type": "markdown",
   "metadata": {},
   "source": [
    "## 第一题 二维数组中的查找"
   ]
  },
  {
   "cell_type": "code",
   "execution_count": 1,
   "metadata": {
    "collapsed": true
   },
   "outputs": [],
   "source": [
    "# -*- coding:utf-8 -*-\n",
    "class Solution:\n",
    "    # array 二维列表\n",
    "    def Find(self, target, array):\n",
    "        # write code here\n",
    "        row = len(array)\n",
    "        if row==0:\n",
    "            return False\n",
    "        col = len(array[0])\n",
    "        if col == 0:\n",
    "            return False\n",
    "        i = row - 1\n",
    "        j = 0\n",
    "        while j<=col-1 and  i>= 0:\n",
    "            if array[i][j]==target:\n",
    "                return True\n",
    "            elif array[i][j]>=target:\n",
    "                i = i-1\n",
    "            else:\n",
    "                j = j+1\n",
    "        return False"
   ]
  },
  {
   "cell_type": "markdown",
   "metadata": {},
   "source": [
    "## 第二题 替换空格"
   ]
  },
  {
   "cell_type": "code",
   "execution_count": 5,
   "metadata": {
    "collapsed": false
   },
   "outputs": [
    {
     "name": "stdout",
     "output_type": "stream",
     "text": [
      "We%20Are%20Happy.\n"
     ]
    }
   ],
   "source": [
    "class Solution:\n",
    "    # s 源字符串\n",
    "    def replaceSpace(self, s):\n",
    "        # write code here\n",
    "        s = s.replace(' ','%20')\n",
    "        print(s)\n",
    "Solution().replaceSpace('We Are Happy.')"
   ]
  },
  {
   "cell_type": "markdown",
   "metadata": {},
   "source": [
    "## 第三题从尾到头打印链表"
   ]
  },
  {
   "cell_type": "code",
   "execution_count": 7,
   "metadata": {
    "collapsed": false
   },
   "outputs": [],
   "source": [
    "# -*- coding:utf-8 -*-\n",
    "# class ListNode:\n",
    "#     def __init__(self, x):\n",
    "#         self.val = x\n",
    "#         self.next = None\n",
    "\n",
    "class Solution:\n",
    "    # 返回从尾部到头部的列表值序列，例如[1,2,3]\n",
    "    def printListFromTailToHead(self, listNode):\n",
    "        # write code here\n",
    "        temp =[]\n",
    "        while listNode!=None:\n",
    "            temp.append(listNode.val)\n",
    "            listNode = listNode.next\n",
    "        return temp[::-1]\n",
    "\n",
    "        "
   ]
  },
  {
   "cell_type": "markdown",
   "metadata": {},
   "source": [
    "## 第四题重建二叉树"
   ]
  },
  {
   "cell_type": "code",
   "execution_count": 18,
   "metadata": {
    "collapsed": false,
    "scrolled": true
   },
   "outputs": [
    {
     "data": {
      "text/plain": [
       "<__main__.TreeNode at 0x1481da3b278>"
      ]
     },
     "execution_count": 18,
     "metadata": {},
     "output_type": "execute_result"
    }
   ],
   "source": [
    "# -*- coding:utf-8 -*-\n",
    "class TreeNode:\n",
    "    def __init__(self, x):\n",
    "        self.val = x\n",
    "        self.left = None\n",
    "        self.right = None\n",
    "#例如输入前序遍历序列{1,2,4,7,3,5,6,8}和中序遍历序列{4,7,2,1,5,3,8,6}，则重建二叉树并返回。\n",
    "class Solution:\n",
    "    # 返回构造的TreeNode根节点\n",
    "    def reConstructBinaryTree(self, pre, tin):\n",
    "        # write code here\n",
    "        if len(pre)== 0:\n",
    "            return None\n",
    "        \n",
    "        head = TreeNode(pre[0])\n",
    "        \n",
    "        index = tin.index(pre[0])\n",
    "        \n",
    "        head.left = self.reConstructBinaryTree(pre[1:index+1],tin[:index])\n",
    "        \n",
    "        head.right = self.reConstructBinaryTree(pre[index+1:],tin[index+1:])\n",
    "        \n",
    "        return head\n",
    "        \n",
    "        \n",
    "        \n",
    "        \n",
    "Solution().reConstructBinaryTree([1,2,4,7,3,5,6,8],[4,7,2,1,5,3,8,6])"
   ]
  },
  {
   "cell_type": "markdown",
   "metadata": {},
   "source": [
    "## 第五题 用两个栈实现队列"
   ]
  },
  {
   "cell_type": "code",
   "execution_count": 21,
   "metadata": {
    "collapsed": false
   },
   "outputs": [],
   "source": [
    "class Solution:\n",
    "    def __init__(self):\n",
    "        self.stack1 = []\n",
    "        self.stack2 = []\n",
    "    def push(self, node):\n",
    "        # write code here\n",
    "        self.stack1.append(node)\n",
    "    def pop(self):\n",
    "        # return xx\n",
    "        if len(stack1)==0:\n",
    "            return\n",
    "        else:\n",
    "            while len(stack1)!=1:\n",
    "                self.stack2.append(self.stack1.pop())\n",
    "            temp = self.stack1.pop()\n",
    "            while len(stack2)!=0:\n",
    "                self.stack1.append(self.stack2.pop())\n",
    "            return temp"
   ]
  },
  {
   "cell_type": "markdown",
   "metadata": {},
   "source": [
    "第六题 旋转数组的最小数字"
   ]
  },
  {
   "cell_type": "code",
   "execution_count": 2,
   "metadata": {
    "collapsed": true
   },
   "outputs": [],
   "source": [
    "# -*- coding:utf-8 -*-\n",
    "class Solution:\n",
    "    def minNumberInRotateArray(self, rotateArray):\n",
    "        # write code here   例如数组{3,4,5,1,2}为{1,2,3,4,5}的一个旋转，该数组的最小值为1。\n",
    "        if len(rotateArray)==0:\n",
    "            return 0\n",
    "        minnum = rotateArray[0]\n",
    "        if len(rotateArray ) == 0:\n",
    "            return minnum\n",
    "        for i in range(1,len(rotateArray)-1):\n",
    "            if rotateArray[i]>rotateArray[i+1]:\n",
    "                minnum = rotateArray[i+1]\n",
    "        return minnum\n",
    "        \n",
    "        \n",
    "        \n",
    "        "
   ]
  },
  {
   "cell_type": "markdown",
   "metadata": {},
   "source": [
    "第七题 斐波那契数列"
   ]
  },
  {
   "cell_type": "code",
   "execution_count": 15,
   "metadata": {
    "collapsed": false
   },
   "outputs": [
    {
     "data": {
      "text/plain": [
       "8"
      ]
     },
     "execution_count": 15,
     "metadata": {},
     "output_type": "execute_result"
    }
   ],
   "source": [
    "class Solution:\n",
    "    def Fibonacci(self, n):\n",
    "        # write code here\n",
    "        i = 0\n",
    "        j = 1\n",
    "        if n == 0:\n",
    "            return 0\n",
    "        elif n==1:\n",
    "            return 1\n",
    "        for step in  range(1,n):\n",
    "            \n",
    "            i , j = j , i+j\n",
    "        return j\n",
    "Solution().Fibonacci(6)"
   ]
  },
  {
   "cell_type": "markdown",
   "metadata": {},
   "source": [
    "第八题 跳台阶"
   ]
  },
  {
   "cell_type": "code",
   "execution_count": null,
   "metadata": {
    "collapsed": true
   },
   "outputs": [],
   "source": [
    "class Solution:\n",
    "    def jumpFloor(self, number):\n",
    "        # write code here\n",
    "        if number == 1 :\n",
    "            return 1\n",
    "        elif number ==2:\n",
    "            return 2\n",
    "        else :\n",
    "            return self.jumpFloor(number-1)+self.jumpFloor(number-2) \n",
    "class Solution2:\n",
    "    def jumpFloor(self, number):\n",
    "        # write code here\n",
    "        a = 1\n",
    "        b = 1\n",
    "        for i in range(number):\n",
    "            a,b = b,a+b\n",
    "        return a\n",
    "Solution().jumpFloor(5)"
   ]
  },
  {
   "cell_type": "markdown",
   "metadata": {},
   "source": [
    "第九题 变态台阶问题"
   ]
  },
  {
   "cell_type": "code",
   "execution_count": 25,
   "metadata": {
    "collapsed": false
   },
   "outputs": [
    {
     "data": {
      "text/plain": [
       "0"
      ]
     },
     "execution_count": 25,
     "metadata": {},
     "output_type": "execute_result"
    }
   ],
   "source": [
    "# -*- coding:utf-8 -*-\n",
    "class Solution:\n",
    "    def jumpFloorII(self, number):\n",
    "        # write code here\n",
    "        if number == 0:\n",
    "            return 0\n",
    "        else:\n",
    "            return 2**(number-1)\n",
    "    def jumpFloorII(self, number):\n",
    "        # write code here\n",
    "        if number == 0:\n",
    "            return 0\n",
    "        else:\n",
    "            return pow(2,number-1)\n",
    "\n",
    "class Solution2:\n",
    "    def jumpFloorII(self, number):\n",
    "        # write code here\n",
    "        if number == 0:\n",
    "            return 0\n",
    "        elif number == 1:\n",
    "            return 1\n",
    "        else:\n",
    "            return 2*self.jumpFloorII(number-1)\n",
    "Solution2().jumpFloorII(0)                "
   ]
  },
  {
   "cell_type": "markdown",
   "metadata": {
    "collapsed": true
   },
   "source": [
    "## 第十题矩形覆盖\n",
    "我们可以用2*1的小矩形横着或者竖着去覆盖更大的矩形。请问用n个2*1的小矩形无重叠地覆盖一个2*n的大矩形，总共有多少种方法？"
   ]
  },
  {
   "cell_type": "code",
   "execution_count": 15,
   "metadata": {
    "collapsed": false
   },
   "outputs": [
    {
     "data": {
      "text/plain": [
       "573147844013817084101"
      ]
     },
     "execution_count": 15,
     "metadata": {},
     "output_type": "execute_result"
    }
   ],
   "source": [
    "class Solution:\n",
    "    def rectCover(self, number): ##思路可以 但是运行超时\n",
    "        # write code here\n",
    "        if number == 1:\n",
    "            return 1\n",
    "        elif number == 2:\n",
    "            return 2\n",
    "        elif number == 0:\n",
    "            return 0\n",
    "        else:\n",
    "            return self.rectCover(number-1)+self.rectCover(number-2)\n",
    "class Solution:\n",
    "    def rectCover(self, number): ##思路可以 但是运行超时\n",
    "        # write code here\n",
    "        i = 1\n",
    "        j = 2\n",
    "        if number == 0:\n",
    "            return 0\n",
    "        while number != 1:\n",
    "            i,j = j,i+j\n",
    "            number -= 1\n",
    "        return i\n",
    "Solution().rectCover(100)"
   ]
  },
  {
   "cell_type": "markdown",
   "metadata": {},
   "source": [
    "第    二进制中一的个数"
   ]
  },
  {
   "cell_type": "code",
   "execution_count": 54,
   "metadata": {
    "collapsed": false,
    "scrolled": true
   },
   "outputs": [],
   "source": [
    "class Solution:\n",
    "    def NumberOf1(self, n):\n",
    "        # write code here\n",
    "        sumnum = 0\n",
    "        for i in range(1,33):\n",
    "            temp = n&1\n",
    "            sumnum += temp\n",
    "            n = n>>1\n",
    "        return sumnum\n",
    "Solution().NumberOf1(-1)\n",
    "n=4>>1"
   ]
  },
  {
   "cell_type": "markdown",
   "metadata": {},
   "source": [
    "第 13 题数值的整数次方"
   ]
  },
  {
   "cell_type": "code",
   "execution_count": 61,
   "metadata": {
    "collapsed": false
   },
   "outputs": [
    {
     "data": {
      "text/plain": [
       "9.261000000000001"
      ]
     },
     "execution_count": 61,
     "metadata": {},
     "output_type": "execute_result"
    }
   ],
   "source": [
    "class Solution:\n",
    "    def Power(self, base, exponent):\n",
    "        # write code here\n",
    "        return pow(base,exponent)\n",
    "Solution().Power(2.1,3)\n",
    "# 2.1**2"
   ]
  },
  {
   "cell_type": "markdown",
   "metadata": {},
   "source": [
    "第 14 调整数组顺序"
   ]
  },
  {
   "cell_type": "code",
   "execution_count": 69,
   "metadata": {
    "collapsed": false
   },
   "outputs": [
    {
     "data": {
      "text/plain": [
       "[1, 3, -1, -3, 2, -2]"
      ]
     },
     "execution_count": 69,
     "metadata": {},
     "output_type": "execute_result"
    }
   ],
   "source": [
    "class Solution:\n",
    "    def reOrderArray(self, array):\n",
    "        # write code here\n",
    "        temp1 = [i for i  in array if i%2==1]\n",
    "        temp2 = [i for i  in array if i%2==0]\n",
    "        temp1.extend(temp2)\n",
    "        for i in range(len(array)):\n",
    "            array[i]=temp1[i]\n",
    "        return array\n",
    "Solution().reOrderArray([1,2,3,-1,-2,-3])  "
   ]
  },
  {
   "cell_type": "markdown",
   "metadata": {},
   "source": [
    "   链表中的倒数第k个点"
   ]
  },
  {
   "cell_type": "code",
   "execution_count": 70,
   "metadata": {
    "collapsed": true
   },
   "outputs": [],
   "source": [
    "class ListNode:\n",
    "    def __init__(self, x):\n",
    "        self.val = x\n",
    "        self.next = None\n",
    "\n",
    "\n",
    "class Solution:\n",
    "    def FindKthToTail(self, head, k):\n",
    "        # write code here\n",
    "        temp = head\n",
    "        j = 0\n",
    "        while temp!=None and j<k:##考虑长度，\n",
    "            temp = temp.next\n",
    "            j+=1\n",
    "        while temp!=None:\n",
    "            head = head.next\n",
    "            temp = temp.next\n",
    "        if j == k: ##考虑长度和节点数的大小  否则会崩溃\n",
    "            return head\n",
    "        else:\n",
    "            return None\n",
    "        "
   ]
  },
  {
   "cell_type": "markdown",
   "metadata": {},
   "source": [
    "反转链表"
   ]
  },
  {
   "cell_type": "code",
   "execution_count": 2,
   "metadata": {
    "collapsed": false
   },
   "outputs": [],
   "source": [
    "class ListNode:\n",
    "    def __init__(self, x):\n",
    "        self.val = x\n",
    "        self.next = None\n",
    "class Solution:\n",
    "    # 返回ListNode\n",
    "    def ReverseList(self, pHead):\n",
    "        # write code here\n",
    "        if pHead==None:\n",
    "            return None\n",
    "        proNode = pHead\n",
    "        lastNode = pHead.next\n",
    "        proNode.next = None   #   边界   不加会死循环\n",
    "        while lastNode!=None:\n",
    "            tempNode = lastNode.next\n",
    "            lastNode.next = proNode\n",
    "            proNode = lastNode\n",
    "            lastNode = tempNode\n",
    "            \n",
    "        return proNode    \n",
    "    \n",
    "    def ReverseList(self, pHead):# 超时了\n",
    "        \n",
    "        # write code here\n",
    "        stack = []\n",
    "        \n",
    "        while pHead!=None:\n",
    "            stack.append(pHead)\n",
    "            pHead = pHead.next\n",
    "        for key in range(len(stack)-1):\n",
    "            stack[key+1].next = stack[key]\n",
    "        if len(stack)==0:\n",
    "            return None\n",
    "        return stack[len(stack)-1]"
   ]
  },
  {
   "cell_type": "markdown",
   "metadata": {},
   "source": [
    "合并两个排序链表"
   ]
  },
  {
   "cell_type": "code",
   "execution_count": 3,
   "metadata": {
    "collapsed": true
   },
   "outputs": [],
   "source": [
    "class ListNode:\n",
    "    def __init__(self, x):\n",
    "        self.val = x\n",
    "        self.next = None\n",
    "class Solution:\n",
    "    # 返回合并后列表\n",
    "    def Merge(self, pHead1, pHead2):\n",
    "        # write code here\n",
    "        head = None\n",
    "        temp = None\n",
    "        if pHead1==None:\n",
    "            return pHead2\n",
    "        elif pHead2 ==None:\n",
    "            return pHead1\n",
    "        if pHead1.val<=pHead2.val:\n",
    "            temp = pHead1\n",
    "            pHead1 = pHead1.next\n",
    "        else :\n",
    "            temp = pHead2\n",
    "            pHead2 = pHead2.next\n",
    "        head = temp\n",
    "        while pHead1!=None and pHead2!=None:\n",
    "            if pHead1.val<=pHead2.val:\n",
    "                temp.next = pHead1\n",
    "                pHead1 = pHead1.next\n",
    "            else:\n",
    "                temp.next = pHead2\n",
    "                pHead2 = pHead2.next\n",
    "            temp = temp.next\n",
    "        if pHead1!= None:\n",
    "            temp.next = pHead1\n",
    "        else:\n",
    "            temp.next = pHead2\n",
    "        return head\n",
    "class Solution:\n",
    "    # 返回合并后列表\n",
    "    def Merge(self, pHead1, pHead2):\n",
    "        # write code here\n",
    "         \n",
    "        res = head = ListNode(0)##  改进   用一个空间换取时间    \n",
    "        while pHead1 and pHead2:\n",
    "            if pHead1.val < pHead2.val:\n",
    "                head.next = pHead1\n",
    "                pHead1 = pHead1.next\n",
    "                 \n",
    "            elif pHead1.val >= pHead2.val:\n",
    "                head.next = pHead2\n",
    "                pHead2 = pHead2.next\n",
    "            head = head.next\n",
    "        head.next = pHead1 or pHead2\n",
    "         \n",
    "        return res.next\n",
    "class Solution:\n",
    "    # 返回合并后列表\n",
    "    def Merge(self, pHead1, pHead2):#    递归   代码行数少\n",
    "        # write code here\n",
    "        if pHead1 == None:\n",
    "            return pHead2\n",
    "        if pHead2 == None:\n",
    "            return pHead1\n",
    "        pMergedHead = None\n",
    "        if pHead1.val < pHead2.val:\n",
    "            pMergedHead = pHead1\n",
    "            pMergedHead.next = self.Merge(pHead1.next, pHead2)\n",
    "        else:\n",
    "            pMergedHead = pHead2\n",
    "            pMergedHead.next = self.Merge(pHead1, pHead2.next)\n",
    "        return pMergedHead"
   ]
  },
  {
   "cell_type": "markdown",
   "metadata": {},
   "source": [
    "## 17树得子结构"
   ]
  },
  {
   "cell_type": "code",
   "execution_count": 36,
   "metadata": {
    "collapsed": false
   },
   "outputs": [
    {
     "data": {
      "text/plain": [
       "False"
      ]
     },
     "execution_count": 36,
     "metadata": {},
     "output_type": "execute_result"
    }
   ],
   "source": [
    "class TreeNode:\n",
    "    def __init__(self, x):\n",
    "        self.val = x\n",
    "        self.left = None\n",
    "        self.right = None\n",
    "class Solution:\n",
    "    def HasSubtree(self, pRoot1, pRoot2):\n",
    "        # write code here\n",
    "        \n",
    "        if pRoot1 == None or pRoot2==None:\n",
    "            return False\n",
    "#         if pRoot1.val == pRoot2.val:    ##提交出错，，考虑不全，当头匹配之后，直接返回了结果，，如果是错误的，还需要继续做\n",
    "#             return self.isture(pRoot1,pRoot2)\n",
    "#         else:\n",
    "        return self.isture(pRoot1,pRoot2) or self.HasSubtree(pRoot1.left,pRoot2) or self.HasSubtree(pRoot1.right,pRoot2)\n",
    "\n",
    "    def isture(self,root1,root2):\n",
    "        if root2 == None:\n",
    "            return True\n",
    "        elif root1 == None:\n",
    "            return False\n",
    "        else:\n",
    "            if root2.val!=root1.val:\n",
    "                return False\n",
    "            else:\n",
    "                return self.isture(root1.left,root2.left) and self.isture(root1.right,root2.right)\n",
    "            \n",
    "\n",
    "#     def printtree(self,root):  ##这种办法行不通\n",
    "#         string = []\n",
    "#         if root == None:\n",
    "#             return []\n",
    "#         else:\n",
    "#             string.extend(self.printtree(root.left))\n",
    "#             string.extend([str(root.val)])\n",
    "#             string.extend(self.printtree(root.right))\n",
    "#         return string\n",
    "test = TreeNode(1)\n",
    "test.left=TreeNode(0)\n",
    "test.right=TreeNode(3)\n",
    "test0 = TreeNode(1)\n",
    "test0.left=TreeNode(0)\n",
    "test0.right=TreeNode(2)\n",
    "Solution().HasSubtree(test,test0)"
   ]
  },
  {
   "cell_type": "markdown",
   "metadata": {
    "collapsed": true
   },
   "source": [
    "## 18题 二叉树的镜像"
   ]
  },
  {
   "cell_type": "code",
   "execution_count": 37,
   "metadata": {
    "collapsed": true
   },
   "outputs": [],
   "source": [
    "class TreeNode:\n",
    "    def __init__(self, x):\n",
    "        self.val = x\n",
    "        self.left = None\n",
    "        self.right = None\n",
    "class Solution:\n",
    "    # 返回镜像树的根节点\n",
    "    def Mirror(self, root):\n",
    "        # write code here\n",
    "        if not root:\n",
    "            return None\n",
    "        else:\n",
    "            temp = root.left\n",
    "            root.left = root.right\n",
    "            root.right = temp  ###这三行与后两行调换顺序  不影响结果，，速度也差不多\n",
    "            self.Mirror(root.left)\n",
    "            self.Mirror(root.right)\n",
    "        return root"
   ]
  },
  {
   "cell_type": "markdown",
   "metadata": {},
   "source": [
    "## 19 顺时针打印矩阵"
   ]
  },
  {
   "cell_type": "code",
   "execution_count": 36,
   "metadata": {
    "collapsed": false
   },
   "outputs": [
    {
     "data": {
      "text/plain": [
       "False"
      ]
     },
     "execution_count": 36,
     "metadata": {},
     "output_type": "execute_result"
    }
   ],
   "source": [
    "class Solution:\n",
    "# 1  2  3  4 \n",
    "# 5  6  7  8 \n",
    "# 9 10 11 12 \n",
    "# 13 14 15 16   打印 1,2,3,4,8,12,16,15,14,13,9,5,6,7,11,10\n",
    "    # matrix类型为二维列表，需要返回列表\n",
    "    def printMatrix(self, matrix):\n",
    "        # write code here\n",
    "        result = []\n",
    "        while matrix != None:\n",
    "            result.extend(matrix[0])\n",
    "            matrix = matrix[1:]\n",
    "            if matrix == [] or matrix[0]==[]:\n",
    "                break\n",
    "            matrix = self.transfor(matrix)\n",
    "#             result+=matrix.pop(0)\n",
    "#             if not matrix or not matrix[0]:\n",
    "#                 break\n",
    "#             matrix = self.turn(matrix)\n",
    "        return result\n",
    "    def transfor(self,matrix):\n",
    "        result = []\n",
    "        for i in range(len(matrix[0])):\n",
    "            temp = []\n",
    "            for j in range(len(matrix)):\n",
    "                temp.append(matrix[j][i])        \n",
    "            result.append(temp)\n",
    "        reselt.reverse()\n",
    "        return result\n",
    "# Solution().printMatrix([[1]])\n",
    "\n"
   ]
  },
  {
   "cell_type": "code",
   "execution_count": 35,
   "metadata": {
    "collapsed": false
   },
   "outputs": [
    {
     "name": "stdout",
     "output_type": "stream",
     "text": [
      "[]\n",
      "[[1]]\n"
     ]
    }
   ],
   "source": [
    "matrix = [[1]]\n",
    "print(matrix[1:])\n",
    "print(matrix)"
   ]
  },
  {
   "cell_type": "markdown",
   "metadata": {},
   "source": [
    "## 20包含min函数的栈 "
   ]
  },
  {
   "cell_type": "code",
   "execution_count": 48,
   "metadata": {
    "collapsed": false
   },
   "outputs": [
    {
     "data": {
      "text/plain": [
       "<__main__.Solution at 0x1a2d5bc57b8>"
      ]
     },
     "execution_count": 48,
     "metadata": {},
     "output_type": "execute_result"
    }
   ],
   "source": [
    "class Solution:\n",
    "    def __init__(self):\n",
    "        self.stack = []\n",
    "        self.minnum = float(\"inf\")\n",
    "    def push(self, node):\n",
    "        # write code here\n",
    "        if len(self.stack)==0 or self.minnum>node:\n",
    "            self.minnum = node\n",
    "        self.stack.append(node)\n",
    "    def pop(self):\n",
    "        # write code here\n",
    "        temp = self.stack.pop()\n",
    "        if temp == self.minnum:\n",
    "            self.minnum = min(self.stack)\n",
    "        return temp\n",
    "    \n",
    "    def top(self):\n",
    "        # write code here\n",
    "        return self.stack[-1]\n",
    "    def min(self):\n",
    "        # write code here\n",
    "        return self.minnum\n",
    "Solution()"
   ]
  },
  {
   "cell_type": "markdown",
   "metadata": {},
   "source": [
    "## 21栈的压入弹出序列 "
   ]
  },
  {
   "cell_type": "code",
   "execution_count": 57,
   "metadata": {
    "collapsed": false
   },
   "outputs": [
    {
     "data": {
      "text/plain": [
       "1"
      ]
     },
     "execution_count": 57,
     "metadata": {},
     "output_type": "execute_result"
    }
   ],
   "source": [
    "class Solution:\n",
    "    ## 例如序列1,2,3,4,5是某栈的压入顺序，序列4,5,3,2,1是该压栈序列对应的一个弹出序列，但4,3,5,1,2就不可能是该压栈序列的弹出序列。\n",
    "    def IsPopOrder(self, pushV, popV):\n",
    "        # write code here\n",
    "        stack = []\n",
    "        for i in range(len(pushV)):\n",
    "            if pushV[i]!=popV[0]:\n",
    "                stack.append(pushV[i])\n",
    "            else:\n",
    "                popV.pop(0)\n",
    "        while len(popV)!=0:\n",
    "            if popV.pop(0)!=stack.pop():\n",
    "                return False\n",
    "        return True\n",
    "class Solution2:\n",
    "    def IsPopOrder(self, pushV, popV):\n",
    "        if not pushV or  len(pushV)!=len(popV):\n",
    "            return 0\n",
    "        stack=[]\n",
    "        for i in pushV:\n",
    "            stack.append(i)\n",
    "            while len(stack) and stack[-1]==popV[0]:\n",
    "                stack.pop()\n",
    "                popV.pop(0)\n",
    "       \n",
    "        if len(stack):\n",
    "            return 0\n",
    "        return 1\n",
    "Solution2().IsPopOrder([2,3],[3,2])"
   ]
  },
  {
   "cell_type": "markdown",
   "metadata": {
    "collapsed": false
   },
   "source": [
    "## 22从上往下打印二叉树"
   ]
  },
  {
   "cell_type": "code",
   "execution_count": 1,
   "metadata": {
    "collapsed": true
   },
   "outputs": [],
   "source": [
    "# -*- coding:utf-8 -*-\n",
    "class TreeNode:\n",
    "    def __init__(self, x):\n",
    "        self.val = x\n",
    "        self.left = None\n",
    "        self.right = None\n",
    "class Solution:\n",
    "    # 返回从上到下每个节点值列表，例：[1,2,3]\n",
    "    def PrintFromTopToBottom(self, root):\n",
    "        # write code here\n",
    "        que = []\n",
    "        printlist = []\n",
    "        if root ==None:\n",
    "            return []\n",
    "        que.append(root)\n",
    "        while que != []:\n",
    "            temp = que.pop(0)\n",
    "            printlist.append(temp.val)\n",
    "            if temp.left!=None:\n",
    "                que.append(temp.left)\n",
    "            elif temp.right!=None:\n",
    "                que.append(temp.right)\n",
    "        return printlist"
   ]
  },
  {
   "cell_type": "markdown",
   "metadata": {},
   "source": [
    "## 23 二叉树的后续遍历序列"
   ]
  },
  {
   "cell_type": "code",
   "execution_count": 30,
   "metadata": {
    "collapsed": false
   },
   "outputs": [
    {
     "data": {
      "text/plain": [
       "False"
      ]
     },
     "execution_count": 30,
     "metadata": {},
     "output_type": "execute_result"
    }
   ],
   "source": [
    "class Solution:\n",
    "    def VerifySquenceOfBST(self, sequence):\n",
    "        # write code here\n",
    "        if len(sequence)==0:\n",
    "            return False\n",
    "        return self.Verify(sequence)\n",
    "    def Verify(self,sequence):\n",
    "        if len(sequence)==0:\n",
    "            return True\n",
    "        root = sequence[-1]\n",
    "        temp = len(sequence)-1\n",
    "        for key in sequence:\n",
    "            if key > root:\n",
    "                temp = sequence.index(key)\n",
    "                break\n",
    "        for i in range(temp,len(sequence)):\n",
    "            if sequence[i]<root:\n",
    "                return False\n",
    "        if self.Verify(sequence[:temp])==True and self.Verify(sequence[temp:len(sequence)-1])==True:\n",
    "            return True\n",
    "        else: \n",
    "            return False\n",
    "    def VerifySquenceOfBST(self, sequence):## 他人思路\n",
    "        # write code here\n",
    "        length = len(sequence)\n",
    "        if length == 0:\n",
    "            return False\n",
    "        if length == 1:\n",
    "            return True\n",
    "        root = sequence[-1]\n",
    "        left = 0\n",
    "        while sequence[left] < root:\n",
    "                left += 1\n",
    "        for j in range(left, length-1):\n",
    "            if sequence[j] < root:\n",
    "                return False\n",
    "        return self.VerifySquenceOfBST(sequence[:left]) or self.VerifySquenceOfBST(sequence[left:length-1])\n",
    "Solution().VerifySquenceOfBST([])"
   ]
  },
  {
   "cell_type": "code",
   "execution_count": 41,
   "metadata": {
    "collapsed": false
   },
   "outputs": [
    {
     "data": {
      "text/plain": [
       "[2, 1]"
      ]
     },
     "execution_count": 41,
     "metadata": {},
     "output_type": "execute_result"
    }
   ],
   "source": []
  },
  {
   "cell_type": "markdown",
   "metadata": {},
   "source": [
    "## 24 二叉树中和为某一值得路劲\n",
    "输入一颗二叉树的跟节点和一个整数，打印出二叉树中结点值的和为输入整数的所有路径。路径定义为从树的根结点开始往下一直到叶结点所经过的结点形成一条路径。(注意: 在返回值的list中，数组长度大的数组靠前)"
   ]
  },
  {
   "cell_type": "code",
   "execution_count": 44,
   "metadata": {
    "collapsed": false
   },
   "outputs": [],
   "source": [
    "class TreeNode:\n",
    "    def __init__(self, x):\n",
    "        self.val = x\n",
    "        self.left = None\n",
    "        self.right = None\n",
    "class Solution:\n",
    "    # 返回二维列表，内部每个列表表示找到的路径\n",
    "    def FindPath(self, root, expectNumber):\n",
    "        # write code here\n",
    "        if not root:\n",
    "            return []\n",
    "        return result\n",
    "    def search(self,root,x):\n",
    "        if root == None:\n",
    "            return True\n",
    "        else:\n",
    "            if self.search(root.left,x-root.val):\n",
    "                \n"
   ]
  },
  {
   "cell_type": "markdown",
   "metadata": {},
   "source": [
    "## 25 复杂链表的复制\n",
    "输入一个复杂链表（每个节点中有节点值，以及两个指针，一个指向下一个节点，另一个特殊指针指向任意一个节点），返回结果为复制后复杂链表的head。（注意，输出结果中请不要返回参数中的节点引用，否则判题程序会直接返回空）"
   ]
  },
  {
   "cell_type": "code",
   "execution_count": 3,
   "metadata": {
    "collapsed": false
   },
   "outputs": [
    {
     "data": {
      "text/plain": [
       "1"
      ]
     },
     "execution_count": 3,
     "metadata": {},
     "output_type": "execute_result"
    }
   ],
   "source": [
    "class RandomListNode:  ## 找大神解法\n",
    "    def __init__(self, x):\n",
    "        self.label = x\n",
    "        self.next = None\n",
    "        self.random = None\n",
    "class Solution:\n",
    "    # 返回 RandomListNode\n",
    "    def Clone(self, pHead):\n",
    "        # write code here\n",
    "        first = RandomListNode(0)\n",
    "        Q = first\n",
    "        P = pHead\n",
    "        while P!=None:\n",
    "            temp = RandomListNode(P.label)\n",
    "            Q.next=temp\n",
    "            P = P.next\n",
    "            Q = temp\n",
    "        Q = first.next\n",
    "        P = pHead\n",
    "        while P!=None:\n",
    "            k = 0\n",
    "            p1 = pHead\n",
    "            while P.random!=p1:\n",
    "                k += 1\n",
    "                p1 = p1.next\n",
    "            q1 = first.next\n",
    "            while k!=0:\n",
    "                k -= 1\n",
    "                q1 = q1.next\n",
    "            Q.random = q1\n",
    "            Q = Q.next\n",
    "            P = P.next\n",
    "        return first.next\n",
    "    def Clone(self, pHead):## 递归解法\n",
    "        # write code here\n",
    "        if not pHead:\n",
    "            return pHead\n",
    "        p=RandomListNode(pHead.label)\n",
    "        p.next=pHead.next\n",
    "        p.random=pHead.random\n",
    "        p.next=self.Clone(pHead.next)\n",
    "        return p\n",
    "head = RandomListNode(0)\n",
    "head.next = RandomListNode(1)\n",
    "head.random = head.next\n",
    "# RandomListNode(2)\n",
    "# RandomListNode(3)\n",
    "Solution().Clone(head).next.label"
   ]
  },
  {
   "cell_type": "code",
   "execution_count": null,
   "metadata": {
    "collapsed": true
   },
   "outputs": [],
   "source": [
    "class Solution:\n",
    "    # 返回 RandomListNode\n",
    "    def Clone(self, pHead):\n",
    "        # write code here\n",
    "         \n",
    "        head = pHead\n",
    "        p_head = None\n",
    "        new_head = None\n",
    "         \n",
    "        random_dic = {}\n",
    "        old_new_dic = {}\n",
    "         \n",
    "        while head:\n",
    "            node = RandomListNode(head.label)\n",
    "            node.random = head.random\n",
    "            old_new_dic[id(head)] = id(node)\n",
    "            random_dic[id(node)] = node\n",
    "            head = head.next\n",
    "             \n",
    "            if new_head:\n",
    "                new_head.next = node\n",
    "                new_head = new_head.next\n",
    "            else:\n",
    "                new_head = node\n",
    "                p_head = node\n",
    "                 \n",
    "        new_head = p_head\n",
    "        while new_head:\n",
    "            if new_head.random != None:\n",
    "                new_head.random = random_dic[old_new_dic[id(new_head.random)]]\n",
    "            new_head = new_head.next\n",
    "        return p_head"
   ]
  },
  {
   "cell_type": "markdown",
   "metadata": {},
   "source": [
    "## 26二叉搜索树与双向链表\n",
    "输入一棵二叉搜索树，将该二叉搜索树转换成一个排序的双向链表。要求不能创建任何新的结点，只能调整树中结点指针的指向。"
   ]
  },
  {
   "cell_type": "code",
   "execution_count": 4,
   "metadata": {
    "collapsed": true
   },
   "outputs": [],
   "source": [
    "# class TreeNode:\n",
    "#     def __init__(self, x):\n",
    "#         self.val = x\n",
    "#         self.left = None\n",
    "#         self.right = None\n",
    "class Solution:\n",
    "    def Convert(self, pRootOfTree):\n",
    "        # write code here\n",
    "        if pRootOfTree==None:\n",
    "            return None\n",
    "        elif pRootOfTree.right==None:\n",
    "            pRootOfTree.right = pRootOfTree\n",
    "        elif "
   ]
  },
  {
   "cell_type": "markdown",
   "metadata": {},
   "source": [
    "## 27 字符串排列"
   ]
  },
  {
   "cell_type": "code",
   "execution_count": null,
   "metadata": {
    "collapsed": true
   },
   "outputs": [],
   "source": [
    "class Solution:\n",
    "    def Permutation(self, ss):\n",
    "        # write code here\n",
    "        result = []\n",
    "        list0 = list(ss)\n",
    "        for key in templist:\n",
    "            "
   ]
  },
  {
   "cell_type": "markdown",
   "metadata": {},
   "source": [
    "## 28数组中超过一半的数"
   ]
  },
  {
   "cell_type": "code",
   "execution_count": 11,
   "metadata": {
    "collapsed": false
   },
   "outputs": [
    {
     "data": {
      "text/plain": [
       "0"
      ]
     },
     "execution_count": 11,
     "metadata": {},
     "output_type": "execute_result"
    }
   ],
   "source": [
    "class Solution:\n",
    "    def MoreThanHalfNum_Solution(self, numbers):\n",
    "        # write code here\n",
    "        num = {}\n",
    "        for i in numbers:\n",
    "            if i in num:\n",
    "                num[i]+=1\n",
    "            else:\n",
    "                num[i]=1\n",
    "        for key,value in num.items():\n",
    "            if value>len(numbers)/2:\n",
    "                return key\n",
    "        return 0\n",
    "Solution().MoreThanHalfNum_Solution([])"
   ]
  },
  {
   "cell_type": "markdown",
   "metadata": {
    "collapsed": true
   },
   "source": [
    "## 29 最小的k个数\n",
    "输入n个整数，找出其中最小的K个数。例如输入4,5,1,6,2,7,3,8这8个数字，则最小的4个数字是1,2,3,4,。"
   ]
  },
  {
   "cell_type": "code",
   "execution_count": 14,
   "metadata": {
    "collapsed": false
   },
   "outputs": [
    {
     "data": {
      "text/plain": [
       "[]"
      ]
     },
     "execution_count": 14,
     "metadata": {},
     "output_type": "execute_result"
    }
   ],
   "source": [
    "class Solution:\n",
    "    def GetLeastNumbers_Solution(self, tinput, k):\n",
    "        # write code here\n",
    "        if k==0:\n",
    "            return []\n",
    "        elif k>len(tinput):\n",
    "            return []\n",
    "        templist = tinput[:k]\n",
    "        for i in range(k,len(tinput)):\n",
    "            temp = max(templist)\n",
    "            if temp>tinput[i]:\n",
    "                templist[tinput.index(temp)]=tinput[i]\n",
    "        return sorted(templist)\n",
    "class Solution:\n",
    "    def GetLeastNumbers_Solution(self, tinput, k):\n",
    "        # write code here\n",
    "        if not tinput:\n",
    "            return []\n",
    "        if k>len(tinput):\n",
    "            return []\n",
    "        tinput.sort()\n",
    "        return tinput[:k]\n",
    "Solution().GetLeastNumbers_Solution([1,2,1],4)"
   ]
  },
  {
   "cell_type": "markdown",
   "metadata": {},
   "source": [
    "## 30 连续子数组最大和"
   ]
  },
  {
   "cell_type": "code",
   "execution_count": null,
   "metadata": {
    "collapsed": true
   },
   "outputs": [],
   "source": []
  },
  {
   "cell_type": "markdown",
   "metadata": {},
   "source": [
    "## 31整数中1出现的次数\n",
    "求出1~13的整数中1出现的次数,并算出100~1300的整数中1出现的次数？为此他特别数了一下1~13中包含1的数字有1、10、11、12、13因此共出现6次,但是对于后面问题他就没辙了。ACMer希望你们帮帮他,并把问题更加普遍化,可以很快的求出任意非负整数区间中1出现的次数（从1 到 n 中1出现的次数）。"
   ]
  },
  {
   "cell_type": "code",
   "execution_count": 19,
   "metadata": {
    "collapsed": false
   },
   "outputs": [],
   "source": [
    "class Solution:\n",
    "    def NumberOf1Between1AndN_Solution(self, n):\n",
    "        # write code here\n",
    "        sum = 0\n",
    "        for i in range(1,n+1):\n",
    "            sum += str(i).count('1')\n",
    "        return sum"
   ]
  }
 ],
 "metadata": {
  "anaconda-cloud": {},
  "kernelspec": {
   "display_name": "Python [conda root]",
   "language": "python",
   "name": "conda-root-py"
  },
  "language_info": {
   "codemirror_mode": {
    "name": "ipython",
    "version": 3
   },
   "file_extension": ".py",
   "mimetype": "text/x-python",
   "name": "python",
   "nbconvert_exporter": "python",
   "pygments_lexer": "ipython3",
   "version": "3.5.2"
  }
 },
 "nbformat": 4,
 "nbformat_minor": 1
}
