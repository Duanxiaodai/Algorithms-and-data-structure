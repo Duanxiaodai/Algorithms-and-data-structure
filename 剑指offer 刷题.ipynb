{
 "cells": [
  {
   "cell_type": "markdown",
   "metadata": {},
   "source": [
    "## 第一题 二维数组中的查找"
   ]
  },
  {
   "cell_type": "code",
   "execution_count": 1,
   "metadata": {
    "collapsed": true
   },
   "outputs": [],
   "source": [
    "# -*- coding:utf-8 -*-\n",
    "class Solution:\n",
    "    # array 二维列表\n",
    "    def Find(self, target, array):\n",
    "        # write code here\n",
    "        row = len(array)\n",
    "        if row==0:\n",
    "            return False\n",
    "        col = len(array[0])\n",
    "        if col == 0:\n",
    "            return False\n",
    "        i = row - 1\n",
    "        j = 0\n",
    "        while j<=col-1 and  i>= 0:\n",
    "            if array[i][j]==target:\n",
    "                return True\n",
    "            elif array[i][j]>=target:\n",
    "                i = i-1\n",
    "            else:\n",
    "                j = j+1\n",
    "        return False"
   ]
  },
  {
   "cell_type": "markdown",
   "metadata": {},
   "source": [
    "## 第二题 替换空格"
   ]
  },
  {
   "cell_type": "code",
   "execution_count": 5,
   "metadata": {
    "collapsed": false
   },
   "outputs": [
    {
     "name": "stdout",
     "output_type": "stream",
     "text": [
      "We%20Are%20Happy.\n"
     ]
    }
   ],
   "source": [
    "class Solution:\n",
    "    # s 源字符串\n",
    "    def replaceSpace(self, s):\n",
    "        # write code here\n",
    "        s = s.replace(' ','%20')\n",
    "        print(s)\n",
    "Solution().replaceSpace('We Are Happy.')"
   ]
  },
  {
   "cell_type": "markdown",
   "metadata": {},
   "source": [
    "## 第三题从尾到头打印链表"
   ]
  },
  {
   "cell_type": "code",
   "execution_count": 7,
   "metadata": {
    "collapsed": false
   },
   "outputs": [],
   "source": [
    "# -*- coding:utf-8 -*-\n",
    "# class ListNode:\n",
    "#     def __init__(self, x):\n",
    "#         self.val = x\n",
    "#         self.next = None\n",
    "\n",
    "class Solution:\n",
    "    # 返回从尾部到头部的列表值序列，例如[1,2,3]\n",
    "    def printListFromTailToHead(self, listNode):\n",
    "        # write code here\n",
    "        temp =[]\n",
    "        while listNode!=None:\n",
    "            temp.append(listNode.val)\n",
    "            listNode = listNode.next\n",
    "        return temp[::-1]\n",
    "\n",
    "        "
   ]
  },
  {
   "cell_type": "markdown",
   "metadata": {},
   "source": [
    "## 第四题重建二叉树"
   ]
  },
  {
   "cell_type": "code",
   "execution_count": 18,
   "metadata": {
    "collapsed": false,
    "scrolled": true
   },
   "outputs": [
    {
     "data": {
      "text/plain": [
       "<__main__.TreeNode at 0x1481da3b278>"
      ]
     },
     "execution_count": 18,
     "metadata": {},
     "output_type": "execute_result"
    }
   ],
   "source": [
    "# -*- coding:utf-8 -*-\n",
    "class TreeNode:\n",
    "    def __init__(self, x):\n",
    "        self.val = x\n",
    "        self.left = None\n",
    "        self.right = None\n",
    "#例如输入前序遍历序列{1,2,4,7,3,5,6,8}和中序遍历序列{4,7,2,1,5,3,8,6}，则重建二叉树并返回。\n",
    "class Solution:\n",
    "    # 返回构造的TreeNode根节点\n",
    "    def reConstructBinaryTree(self, pre, tin):\n",
    "        # write code here\n",
    "        if len(pre)== 0:\n",
    "            return None\n",
    "        \n",
    "        head = TreeNode(pre[0])\n",
    "        \n",
    "        index = tin.index(pre[0])\n",
    "        \n",
    "        head.left = self.reConstructBinaryTree(pre[1:index+1],tin[:index])\n",
    "        \n",
    "        head.right = self.reConstructBinaryTree(pre[index+1:],tin[index+1:])\n",
    "        \n",
    "        return head\n",
    "        \n",
    "        \n",
    "        \n",
    "        \n",
    "Solution().reConstructBinaryTree([1,2,4,7,3,5,6,8],[4,7,2,1,5,3,8,6])"
   ]
  },
  {
   "cell_type": "markdown",
   "metadata": {},
   "source": [
    "## 第五题 用两个栈实现队列"
   ]
  },
  {
   "cell_type": "code",
   "execution_count": 21,
   "metadata": {
    "collapsed": false
   },
   "outputs": [],
   "source": [
    "class Solution:\n",
    "    def __init__(self):\n",
    "        self.stack1 = []\n",
    "        self.stack2 = []\n",
    "    def push(self, node):\n",
    "        # write code here\n",
    "        self.stack1.append(node)\n",
    "    def pop(self):\n",
    "        # return xx\n",
    "        if len(stack1)==0:\n",
    "            return\n",
    "        else:\n",
    "            while len(stack1)!=1:\n",
    "                self.stack2.append(self.stack1.pop())\n",
    "            temp = self.stack1.pop()\n",
    "            while len(stack2)!=0:\n",
    "                self.stack1.append(self.stack2.pop())\n",
    "            return temp"
   ]
  },
  {
   "cell_type": "markdown",
   "metadata": {},
   "source": [
    "第六题 旋转数组的最小数字"
   ]
  },
  {
   "cell_type": "code",
   "execution_count": 2,
   "metadata": {
    "collapsed": true
   },
   "outputs": [],
   "source": [
    "# -*- coding:utf-8 -*-\n",
    "class Solution:\n",
    "    def minNumberInRotateArray(self, rotateArray):\n",
    "        # write code here   例如数组{3,4,5,1,2}为{1,2,3,4,5}的一个旋转，该数组的最小值为1。\n",
    "        if len(rotateArray)==0:\n",
    "            return 0\n",
    "        minnum = rotateArray[0]\n",
    "        if len(rotateArray ) == 0:\n",
    "            return minnum\n",
    "        for i in range(1,len(rotateArray)-1):\n",
    "            if rotateArray[i]>rotateArray[i+1]:\n",
    "                minnum = rotateArray[i+1]\n",
    "        return minnum\n",
    "        \n",
    "        \n",
    "        \n",
    "        "
   ]
  },
  {
   "cell_type": "markdown",
   "metadata": {},
   "source": [
    "第七题 斐波那契数列"
   ]
  },
  {
   "cell_type": "code",
   "execution_count": 15,
   "metadata": {
    "collapsed": false
   },
   "outputs": [
    {
     "data": {
      "text/plain": [
       "8"
      ]
     },
     "execution_count": 15,
     "metadata": {},
     "output_type": "execute_result"
    }
   ],
   "source": [
    "class Solution:\n",
    "    def Fibonacci(self, n):\n",
    "        # write code here\n",
    "        i = 0\n",
    "        j = 1\n",
    "        if n == 0:\n",
    "            return 0\n",
    "        elif n==1:\n",
    "            return 1\n",
    "        for step in  range(1,n):\n",
    "            \n",
    "            i , j = j , i+j\n",
    "        return j\n",
    "Solution().Fibonacci(6)"
   ]
  },
  {
   "cell_type": "markdown",
   "metadata": {},
   "source": [
    "第八题 跳台阶"
   ]
  },
  {
   "cell_type": "code",
   "execution_count": 19,
   "metadata": {
    "collapsed": false
   },
   "outputs": [
    {
     "data": {
      "text/plain": [
       "3"
      ]
     },
     "execution_count": 19,
     "metadata": {},
     "output_type": "execute_result"
    }
   ],
   "source": [
    "class Solution:\n",
    "    def jumpFloor(self, number):\n",
    "        # write code here\n",
    "        if number == 1 :\n",
    "            return 1\n",
    "        elif number ==2:\n",
    "            return 2\n",
    "        else :\n",
    "            return self.jumpFloor(number-1)+self.jumpFloor(number-2) \n",
    "class Solution2:\n",
    "    def jumpFloor(self, number):\n",
    "        # write code here\n",
    "        a = 1\n",
    "        b = 1\n",
    "        for i in range(number):\n",
    "            a,b = b,a+b\n",
    "        return a\n",
    "Solution2().jumpFloor(3)"
   ]
  }
 ],
 "metadata": {
  "anaconda-cloud": {},
  "kernelspec": {
   "display_name": "Python [conda root]",
   "language": "python",
   "name": "conda-root-py"
  },
  "language_info": {
   "codemirror_mode": {
    "name": "ipython",
    "version": 3
   },
   "file_extension": ".py",
   "mimetype": "text/x-python",
   "name": "python",
   "nbconvert_exporter": "python",
   "pygments_lexer": "ipython3",
   "version": "3.5.2"
  }
 },
 "nbformat": 4,
 "nbformat_minor": 1
}
