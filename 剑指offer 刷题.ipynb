{
 "cells": [
  {
   "cell_type": "markdown",
   "metadata": {},
   "source": [
    "## 第一题 二维数组中的查找"
   ]
  },
  {
   "cell_type": "code",
   "execution_count": 1,
   "metadata": {
    "collapsed": true
   },
   "outputs": [],
   "source": [
    "# -*- coding:utf-8 -*-\n",
    "class Solution:\n",
    "    # array 二维列表\n",
    "    def Find(self, target, array):\n",
    "        # write code here\n",
    "        row = len(array)\n",
    "        if row==0:\n",
    "            return False\n",
    "        col = len(array[0])\n",
    "        if col == 0:\n",
    "            return False\n",
    "        i = row - 1\n",
    "        j = 0\n",
    "        while j<=col-1 and  i>= 0:\n",
    "            if array[i][j]==target:\n",
    "                return True\n",
    "            elif array[i][j]>=target:\n",
    "                i = i-1\n",
    "            else:\n",
    "                j = j+1\n",
    "        return False"
   ]
  },
  {
   "cell_type": "markdown",
   "metadata": {},
   "source": [
    "## 第二题 替换空格"
   ]
  },
  {
   "cell_type": "code",
   "execution_count": 5,
   "metadata": {
    "collapsed": false
   },
   "outputs": [
    {
     "name": "stdout",
     "output_type": "stream",
     "text": [
      "We%20Are%20Happy.\n"
     ]
    }
   ],
   "source": [
    "class Solution:\n",
    "    # s 源字符串\n",
    "    def replaceSpace(self, s):\n",
    "        # write code here\n",
    "        s = s.replace(' ','%20')\n",
    "        print(s)\n",
    "Solution().replaceSpace('We Are Happy.')"
   ]
  },
  {
   "cell_type": "markdown",
   "metadata": {},
   "source": [
    "## 第三题从尾到头打印链表"
   ]
  },
  {
   "cell_type": "code",
   "execution_count": 7,
   "metadata": {
    "collapsed": false
   },
   "outputs": [],
   "source": [
    "# -*- coding:utf-8 -*-\n",
    "# class ListNode:\n",
    "#     def __init__(self, x):\n",
    "#         self.val = x\n",
    "#         self.next = None\n",
    "\n",
    "class Solution:\n",
    "    # 返回从尾部到头部的列表值序列，例如[1,2,3]\n",
    "    def printListFromTailToHead(self, listNode):\n",
    "        # write code here\n",
    "        temp =[]\n",
    "        while listNode!=None:\n",
    "            temp.append(listNode.val)\n",
    "            listNode = listNode.next\n",
    "        return temp[::-1]\n",
    "\n",
    "        "
   ]
  },
  {
   "cell_type": "markdown",
   "metadata": {},
   "source": [
    "## 第四题重建二叉树"
   ]
  },
  {
   "cell_type": "code",
   "execution_count": 18,
   "metadata": {
    "collapsed": false,
    "scrolled": true
   },
   "outputs": [
    {
     "data": {
      "text/plain": [
       "<__main__.TreeNode at 0x1481da3b278>"
      ]
     },
     "execution_count": 18,
     "metadata": {},
     "output_type": "execute_result"
    }
   ],
   "source": [
    "# -*- coding:utf-8 -*-\n",
    "class TreeNode:\n",
    "    def __init__(self, x):\n",
    "        self.val = x\n",
    "        self.left = None\n",
    "        self.right = None\n",
    "#例如输入前序遍历序列{1,2,4,7,3,5,6,8}和中序遍历序列{4,7,2,1,5,3,8,6}，则重建二叉树并返回。\n",
    "class Solution:\n",
    "    # 返回构造的TreeNode根节点\n",
    "    def reConstructBinaryTree(self, pre, tin):\n",
    "        # write code here\n",
    "        if len(pre)== 0:\n",
    "            return None\n",
    "        \n",
    "        head = TreeNode(pre[0])\n",
    "        \n",
    "        index = tin.index(pre[0])\n",
    "        \n",
    "        head.left = self.reConstructBinaryTree(pre[1:index+1],tin[:index])\n",
    "        \n",
    "        head.right = self.reConstructBinaryTree(pre[index+1:],tin[index+1:])\n",
    "        \n",
    "        return head\n",
    "        \n",
    "        \n",
    "        \n",
    "        \n",
    "Solution().reConstructBinaryTree([1,2,4,7,3,5,6,8],[4,7,2,1,5,3,8,6])"
   ]
  },
  {
   "cell_type": "markdown",
   "metadata": {},
   "source": [
    "## 第五题 用两个栈实现队列"
   ]
  },
  {
   "cell_type": "code",
   "execution_count": 21,
   "metadata": {
    "collapsed": false
   },
   "outputs": [],
   "source": [
    "class Solution:\n",
    "    def __init__(self):\n",
    "        self.stack1 = []\n",
    "        self.stack2 = []\n",
    "    def push(self, node):\n",
    "        # write code here\n",
    "        self.stack1.append(node)\n",
    "    def pop(self):\n",
    "        # return xx\n",
    "        if len(stack1)==0:\n",
    "            return\n",
    "        else:\n",
    "            while len(stack1)!=1:\n",
    "                self.stack2.append(self.stack1.pop())\n",
    "            temp = self.stack1.pop()\n",
    "            while len(stack2)!=0:\n",
    "                self.stack1.append(self.stack2.pop())\n",
    "            return temp"
   ]
  },
  {
   "cell_type": "markdown",
   "metadata": {},
   "source": [
    "第六题 旋转数组的最小数字"
   ]
  },
  {
   "cell_type": "code",
   "execution_count": 2,
   "metadata": {
    "collapsed": true
   },
   "outputs": [],
   "source": [
    "# -*- coding:utf-8 -*-\n",
    "class Solution:\n",
    "    def minNumberInRotateArray(self, rotateArray):\n",
    "        # write code here   例如数组{3,4,5,1,2}为{1,2,3,4,5}的一个旋转，该数组的最小值为1。\n",
    "        if len(rotateArray)==0:\n",
    "            return 0\n",
    "        minnum = rotateArray[0]\n",
    "        if len(rotateArray ) == 0:\n",
    "            return minnum\n",
    "        for i in range(1,len(rotateArray)-1):\n",
    "            if rotateArray[i]>rotateArray[i+1]:\n",
    "                minnum = rotateArray[i+1]\n",
    "        return minnum\n",
    "        \n",
    "        \n",
    "        \n",
    "        "
   ]
  },
  {
   "cell_type": "markdown",
   "metadata": {},
   "source": [
    "第七题 斐波那契数列"
   ]
  },
  {
   "cell_type": "code",
   "execution_count": 15,
   "metadata": {
    "collapsed": false
   },
   "outputs": [
    {
     "data": {
      "text/plain": [
       "8"
      ]
     },
     "execution_count": 15,
     "metadata": {},
     "output_type": "execute_result"
    }
   ],
   "source": [
    "class Solution:\n",
    "    def Fibonacci(self, n):\n",
    "        # write code here\n",
    "        i = 0\n",
    "        j = 1\n",
    "        if n == 0:\n",
    "            return 0\n",
    "        elif n==1:\n",
    "            return 1\n",
    "        for step in  range(1,n):\n",
    "            \n",
    "            i , j = j , i+j\n",
    "        return j\n",
    "Solution().Fibonacci(6)"
   ]
  },
  {
   "cell_type": "markdown",
   "metadata": {},
   "source": [
    "第八题 跳台阶"
   ]
  },
  {
   "cell_type": "code",
   "execution_count": null,
   "metadata": {
    "collapsed": true
   },
   "outputs": [],
   "source": [
    "class Solution:\n",
    "    def jumpFloor(self, number):\n",
    "        # write code here\n",
    "        if number == 1 :\n",
    "            return 1\n",
    "        elif number ==2:\n",
    "            return 2\n",
    "        else :\n",
    "            return self.jumpFloor(number-1)+self.jumpFloor(number-2) \n",
    "class Solution2:\n",
    "    def jumpFloor(self, number):\n",
    "        # write code here\n",
    "        a = 1\n",
    "        b = 1\n",
    "        for i in range(number):\n",
    "            a,b = b,a+b\n",
    "        return a\n",
    "Solution().jumpFloor(5)"
   ]
  },
  {
   "cell_type": "markdown",
   "metadata": {},
   "source": [
    "第九题 变态台阶问题"
   ]
  },
  {
   "cell_type": "code",
   "execution_count": 25,
   "metadata": {
    "collapsed": false
   },
   "outputs": [
    {
     "data": {
      "text/plain": [
       "0"
      ]
     },
     "execution_count": 25,
     "metadata": {},
     "output_type": "execute_result"
    }
   ],
   "source": [
    "# -*- coding:utf-8 -*-\n",
    "class Solution:\n",
    "    def jumpFloorII(self, number):\n",
    "        # write code here\n",
    "        if number == 0:\n",
    "            return 0\n",
    "        else:\n",
    "            return 2**(number-1)\n",
    "    def jumpFloorII(self, number):\n",
    "        # write code here\n",
    "        if number == 0:\n",
    "            return 0\n",
    "        else:\n",
    "            return pow(2,number-1)\n",
    "\n",
    "class Solution2:\n",
    "    def jumpFloorII(self, number):\n",
    "        # write code here\n",
    "        if number == 0:\n",
    "            return 0\n",
    "        elif number == 1:\n",
    "            return 1\n",
    "        else:\n",
    "            return 2*self.jumpFloorII(number-1)\n",
    "Solution2().jumpFloorII(0)                "
   ]
  },
  {
   "cell_type": "code",
   "execution_count": null,
   "metadata": {
    "collapsed": true
   },
   "outputs": [],
   "source": []
  },
  {
   "cell_type": "code",
   "execution_count": null,
   "metadata": {
    "collapsed": true
   },
   "outputs": [],
   "source": []
  },
  {
   "cell_type": "markdown",
   "metadata": {},
   "source": [
    "第    二进制中一的个数"
   ]
  },
  {
   "cell_type": "code",
   "execution_count": 54,
   "metadata": {
    "collapsed": false,
    "scrolled": true
   },
   "outputs": [],
   "source": [
    "class Solution:\n",
    "    def NumberOf1(self, n):\n",
    "        # write code here\n",
    "        sumnum = 0\n",
    "        for i in range(1,33):\n",
    "            temp = n&1\n",
    "            sumnum += temp\n",
    "            n = n>>1\n",
    "        return sumnum\n",
    "Solution().NumberOf1(-1)\n",
    "n=4>>1"
   ]
  },
  {
   "cell_type": "markdown",
   "metadata": {},
   "source": [
    "第 13 题数值的整数次方"
   ]
  },
  {
   "cell_type": "code",
   "execution_count": 61,
   "metadata": {
    "collapsed": false
   },
   "outputs": [
    {
     "data": {
      "text/plain": [
       "9.261000000000001"
      ]
     },
     "execution_count": 61,
     "metadata": {},
     "output_type": "execute_result"
    }
   ],
   "source": [
    "class Solution:\n",
    "    def Power(self, base, exponent):\n",
    "        # write code here\n",
    "        return pow(base,exponent)\n",
    "Solution().Power(2.1,3)\n",
    "# 2.1**2"
   ]
  },
  {
   "cell_type": "markdown",
   "metadata": {},
   "source": [
    "第 14 调整数组顺序"
   ]
  },
  {
   "cell_type": "code",
   "execution_count": 69,
   "metadata": {
    "collapsed": false
   },
   "outputs": [
    {
     "data": {
      "text/plain": [
       "[1, 3, -1, -3, 2, -2]"
      ]
     },
     "execution_count": 69,
     "metadata": {},
     "output_type": "execute_result"
    }
   ],
   "source": [
    "class Solution:\n",
    "    def reOrderArray(self, array):\n",
    "        # write code here\n",
    "        temp1 = [i for i  in array if i%2==1]\n",
    "        temp2 = [i for i  in array if i%2==0]\n",
    "        temp1.extend(temp2)\n",
    "        for i in range(len(array)):\n",
    "            array[i]=temp1[i]\n",
    "        return array\n",
    "Solution().reOrderArray([1,2,3,-1,-2,-3])  "
   ]
  },
  {
   "cell_type": "markdown",
   "metadata": {},
   "source": [
    "   链表中的倒数第k个点"
   ]
  },
  {
   "cell_type": "code",
   "execution_count": 70,
   "metadata": {
    "collapsed": true
   },
   "outputs": [],
   "source": [
    "class ListNode:\n",
    "    def __init__(self, x):\n",
    "        self.val = x\n",
    "        self.next = None\n",
    "\n",
    "\n",
    "class Solution:\n",
    "    def FindKthToTail(self, head, k):\n",
    "        # write code here\n",
    "        temp = head\n",
    "        j = 0\n",
    "        while temp!=None and j<k:##考虑长度，\n",
    "            temp = temp.next\n",
    "            j+=1\n",
    "        while temp!=None:\n",
    "            head = head.next\n",
    "            temp = temp.next\n",
    "        if j == k: ##考虑长度和节点数的大小  否则会崩溃\n",
    "            return head\n",
    "        else:\n",
    "            return None\n",
    "        "
   ]
  },
  {
   "cell_type": "markdown",
   "metadata": {},
   "source": [
    "反转链表"
   ]
  },
  {
   "cell_type": "code",
   "execution_count": 2,
   "metadata": {
    "collapsed": false
   },
   "outputs": [],
   "source": [
    "class ListNode:\n",
    "    def __init__(self, x):\n",
    "        self.val = x\n",
    "        self.next = None\n",
    "class Solution:\n",
    "    # 返回ListNode\n",
    "    def ReverseList(self, pHead):\n",
    "        # write code here\n",
    "        if pHead==None:\n",
    "            return None\n",
    "        proNode = pHead\n",
    "        lastNode = pHead.next\n",
    "        proNode.next = None   #   边界   不加会死循环\n",
    "        while lastNode!=None:\n",
    "            tempNode = lastNode.next\n",
    "            lastNode.next = proNode\n",
    "            proNode = lastNode\n",
    "            lastNode = tempNode\n",
    "            \n",
    "        return proNode    \n",
    "    \n",
    "    def ReverseList(self, pHead):# 超时了\n",
    "        \n",
    "        # write code here\n",
    "        stack = []\n",
    "        \n",
    "        while pHead!=None:\n",
    "            stack.append(pHead)\n",
    "            pHead = pHead.next\n",
    "        for key in range(len(stack)-1):\n",
    "            stack[key+1].next = stack[key]\n",
    "        if len(stack)==0:\n",
    "            return None\n",
    "        return stack[len(stack)-1]"
   ]
  },
  {
   "cell_type": "markdown",
   "metadata": {},
   "source": [
    "合并两个排序链表"
   ]
  },
  {
   "cell_type": "code",
   "execution_count": 3,
   "metadata": {
    "collapsed": true
   },
   "outputs": [],
   "source": [
    "class ListNode:\n",
    "    def __init__(self, x):\n",
    "        self.val = x\n",
    "        self.next = None\n",
    "class Solution:\n",
    "    # 返回合并后列表\n",
    "    def Merge(self, pHead1, pHead2):\n",
    "        # write code here\n",
    "        head = None\n",
    "        temp = None\n",
    "        if pHead1==None:\n",
    "            return pHead2\n",
    "        elif pHead2 ==None:\n",
    "            return pHead1\n",
    "        if pHead1.val<=pHead2.val:\n",
    "            temp = pHead1\n",
    "            pHead1 = pHead1.next\n",
    "        else :\n",
    "            temp = pHead2\n",
    "            pHead2 = pHead2.next\n",
    "        head = temp\n",
    "        while pHead1!=None and pHead2!=None:\n",
    "            if pHead1.val<=pHead2.val:\n",
    "                temp.next = pHead1\n",
    "                pHead1 = pHead1.next\n",
    "            else:\n",
    "                temp.next = pHead2\n",
    "                pHead2 = pHead2.next\n",
    "            temp = temp.next\n",
    "        if pHead1!= None:\n",
    "            temp.next = pHead1\n",
    "        else:\n",
    "            temp.next = pHead2\n",
    "        return head\n",
    "class Solution:\n",
    "    # 返回合并后列表\n",
    "    def Merge(self, pHead1, pHead2):\n",
    "        # write code here\n",
    "         \n",
    "        res = head = ListNode(0)##  改进   用一个空间换取时间    \n",
    "        while pHead1 and pHead2:\n",
    "            if pHead1.val < pHead2.val:\n",
    "                head.next = pHead1\n",
    "                pHead1 = pHead1.next\n",
    "                 \n",
    "            elif pHead1.val >= pHead2.val:\n",
    "                head.next = pHead2\n",
    "                pHead2 = pHead2.next\n",
    "            head = head.next\n",
    "        head.next = pHead1 or pHead2\n",
    "         \n",
    "        return res.next\n",
    "class Solution:\n",
    "    # 返回合并后列表\n",
    "    def Merge(self, pHead1, pHead2):#    递归   代码行数少\n",
    "        # write code here\n",
    "        if pHead1 == None:\n",
    "            return pHead2\n",
    "        if pHead2 == None:\n",
    "            return pHead1\n",
    "        pMergedHead = None\n",
    "        if pHead1.val < pHead2.val:\n",
    "            pMergedHead = pHead1\n",
    "            pMergedHead.next = self.Merge(pHead1.next, pHead2)\n",
    "        else:\n",
    "            pMergedHead = pHead2\n",
    "            pMergedHead.next = self.Merge(pHead1, pHead2.next)\n",
    "        return pMergedHead"
   ]
  },
  {
   "cell_type": "markdown",
   "metadata": {},
   "source": [
    "## 17树得子结构"
   ]
  },
  {
   "cell_type": "code",
   "execution_count": 36,
   "metadata": {
    "collapsed": false
   },
   "outputs": [
    {
     "data": {
      "text/plain": [
       "False"
      ]
     },
     "execution_count": 36,
     "metadata": {},
     "output_type": "execute_result"
    }
   ],
   "source": [
    "class TreeNode:\n",
    "    def __init__(self, x):\n",
    "        self.val = x\n",
    "        self.left = None\n",
    "        self.right = None\n",
    "class Solution:\n",
    "    def HasSubtree(self, pRoot1, pRoot2):\n",
    "        # write code here\n",
    "        \n",
    "        if pRoot1 == None or pRoot2==None:\n",
    "            return False\n",
    "#         if pRoot1.val == pRoot2.val:    ##提交出错，，考虑不全，当头匹配之后，直接返回了结果，，如果是错误的，还需要继续做\n",
    "#             return self.isture(pRoot1,pRoot2)\n",
    "#         else:\n",
    "        return self.isture(pRoot1,pRoot2) or self.HasSubtree(pRoot1.left,pRoot2) or self.HasSubtree(pRoot1.right,pRoot2)\n",
    "\n",
    "    def isture(self,root1,root2):\n",
    "        if root2 == None:\n",
    "            return True\n",
    "        elif root1 == None:\n",
    "            return False\n",
    "        else:\n",
    "            if root2.val!=root1.val:\n",
    "                return False\n",
    "            else:\n",
    "                return self.isture(root1.left,root2.left) and self.isture(root1.right,root2.right)\n",
    "            \n",
    "\n",
    "#     def printtree(self,root):  ##这种办法行不通\n",
    "#         string = []\n",
    "#         if root == None:\n",
    "#             return []\n",
    "#         else:\n",
    "#             string.extend(self.printtree(root.left))\n",
    "#             string.extend([str(root.val)])\n",
    "#             string.extend(self.printtree(root.right))\n",
    "#         return string\n",
    "test = TreeNode(1)\n",
    "test.left=TreeNode(0)\n",
    "test.right=TreeNode(3)\n",
    "test0 = TreeNode(1)\n",
    "test0.left=TreeNode(0)\n",
    "test0.right=TreeNode(2)\n",
    "Solution().HasSubtree(test,test0)"
   ]
  },
  {
   "cell_type": "markdown",
   "metadata": {
    "collapsed": true
   },
   "source": [
    "## 18题 二叉树的镜像"
   ]
  },
  {
   "cell_type": "code",
   "execution_count": 37,
   "metadata": {
    "collapsed": true
   },
   "outputs": [],
   "source": [
    "class TreeNode:\n",
    "    def __init__(self, x):\n",
    "        self.val = x\n",
    "        self.left = None\n",
    "        self.right = None\n",
    "class Solution:\n",
    "    # 返回镜像树的根节点\n",
    "    def Mirror(self, root):\n",
    "        # write code here\n",
    "        if not root:\n",
    "            return None\n",
    "        else:\n",
    "            temp = root.left\n",
    "            root.left = root.right\n",
    "            root.right = temp  ###这三行与后两行调换顺序  不影响结果，，速度也差不多\n",
    "            self.Mirror(root.left)\n",
    "            self.Mirror(root.right)\n",
    "        return root"
   ]
  },
  {
   "cell_type": "markdown",
   "metadata": {},
   "source": [
    "## 19 顺时针打印矩阵"
   ]
  },
  {
   "cell_type": "code",
   "execution_count": 39,
   "metadata": {
    "collapsed": false
   },
   "outputs": [
    {
     "ename": "SyntaxError",
     "evalue": "unexpected EOF while parsing (<ipython-input-39-23442c6a236a>, line 8)",
     "output_type": "error",
     "traceback": [
      "\u001b[0;36m  File \u001b[0;32m\"<ipython-input-39-23442c6a236a>\"\u001b[0;36m, line \u001b[0;32m8\u001b[0m\n\u001b[0;31m    # write code here\u001b[0m\n\u001b[0m                     ^\u001b[0m\n\u001b[0;31mSyntaxError\u001b[0m\u001b[0;31m:\u001b[0m unexpected EOF while parsing\n"
     ]
    }
   ],
   "source": [
    "class Solution:\n",
    "# 1  2  3  4 \n",
    "# 5  6  7  8 \n",
    "# 9 10 11 12 \n",
    "# 13 14 15 16   打印 1,2,3,4,8,12,16,15,14,13,9,5,6,7,11,10\n",
    "    # matrix类型为二维列表，需要返回列表\n",
    "    def printMatrix(self, matrix):\n",
    "        # write code here\n",
    "        row = len(matrix)\n",
    "        result = []\n",
    "        \n",
    "        for i range(len(matrix)):\n",
    "            "
   ]
  },
  {
   "cell_type": "markdown",
   "metadata": {},
   "source": [
    "## 20包含min函数的栈 "
   ]
  },
  {
   "cell_type": "code",
   "execution_count": 48,
   "metadata": {
    "collapsed": false
   },
   "outputs": [
    {
     "data": {
      "text/plain": [
       "<__main__.Solution at 0x1a2d5bc57b8>"
      ]
     },
     "execution_count": 48,
     "metadata": {},
     "output_type": "execute_result"
    }
   ],
   "source": [
    "class Solution:\n",
    "    def __init__(self):\n",
    "        self.stack = []\n",
    "        self.minnum = float(\"inf\")\n",
    "    def push(self, node):\n",
    "        # write code here\n",
    "        if len(self.stack)==0 or self.minnum>node:\n",
    "            self.minnum = node\n",
    "        self.stack.append(node)\n",
    "    def pop(self):\n",
    "        # write code here\n",
    "        temp = self.stack.pop()\n",
    "        if temp == self.minnum:\n",
    "            self.minnum = min(self.stack)\n",
    "        return temp\n",
    "    \n",
    "    def top(self):\n",
    "        # write code here\n",
    "        return self.stack[-1]\n",
    "    def min(self):\n",
    "        # write code here\n",
    "        return self.minnum\n",
    "Solution()"
   ]
  },
  {
   "cell_type": "markdown",
   "metadata": {},
   "source": [
    "## 21栈的压入弹出序列 "
   ]
  },
  {
   "cell_type": "code",
   "execution_count": 57,
   "metadata": {
    "collapsed": false
   },
   "outputs": [
    {
     "data": {
      "text/plain": [
       "1"
      ]
     },
     "execution_count": 57,
     "metadata": {},
     "output_type": "execute_result"
    }
   ],
   "source": [
    "class Solution:\n",
    "    ## 例如序列1,2,3,4,5是某栈的压入顺序，序列4,5,3,2,1是该压栈序列对应的一个弹出序列，但4,3,5,1,2就不可能是该压栈序列的弹出序列。\n",
    "    def IsPopOrder(self, pushV, popV):\n",
    "        # write code here\n",
    "        stack = []\n",
    "        for i in range(len(pushV)):\n",
    "            if pushV[i]!=popV[0]:\n",
    "                stack.append(pushV[i])\n",
    "            else:\n",
    "                popV.pop(0)\n",
    "        while len(popV)!=0:\n",
    "            if popV.pop(0)!=stack.pop():\n",
    "                return False\n",
    "        return True\n",
    "class Solution2:\n",
    "    def IsPopOrder(self, pushV, popV):\n",
    "        if not pushV or  len(pushV)!=len(popV):\n",
    "            return 0\n",
    "        stack=[]\n",
    "        for i in pushV:\n",
    "            stack.append(i)\n",
    "            while len(stack) and stack[-1]==popV[0]:\n",
    "                stack.pop()\n",
    "                popV.pop(0)\n",
    "       \n",
    "        if len(stack):\n",
    "            return 0\n",
    "        return 1\n",
    "Solution2().IsPopOrder([2,3],[3,2])"
   ]
  },
  {
   "cell_type": "code",
   "execution_count": 60,
   "metadata": {
    "collapsed": false
   },
   "outputs": [
    {
     "data": {
      "text/plain": [
       "False"
      ]
     },
     "execution_count": 60,
     "metadata": {},
     "output_type": "execute_result"
    }
   ],
   "source": [
    "[1,2] in [1,2]"
   ]
  }
 ],
 "metadata": {
  "anaconda-cloud": {},
  "kernelspec": {
   "display_name": "Python [conda root]",
   "language": "python",
   "name": "conda-root-py"
  },
  "language_info": {
   "codemirror_mode": {
    "name": "ipython",
    "version": 3
   },
   "file_extension": ".py",
   "mimetype": "text/x-python",
   "name": "python",
   "nbconvert_exporter": "python",
   "pygments_lexer": "ipython3",
   "version": "3.5.2"
  }
 },
 "nbformat": 4,
 "nbformat_minor": 1
}
