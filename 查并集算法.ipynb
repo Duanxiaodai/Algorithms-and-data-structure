{
 "cells": [
  {
   "cell_type": "markdown",
   "metadata": {},
   "source": [
    "常问的图面试问题：\n",
    "\n",
    "实现广度优先搜索和深度优先搜索  \n",
    "#### 检查一个图是否为树  （查并集算法） \n",
    "计算一张图中的边的数量  \n",
    "找到两个顶点之间的最短路径  "
   ]
  },
  {
   "cell_type": "markdown",
   "metadata": {},
   "source": [
    "常问的树面试问题：\n",
    "\n",
    "找到一个二叉树的高度  \n",
    "找到一个二叉搜索树中第 k 个最大值  \n",
    "找到距离根部“k”个距离的节点  \n",
    "找到一个二叉树中给定节点的祖先（ancestors）  "
   ]
  },
  {
   "cell_type": "code",
   "execution_count": null,
   "metadata": {
    "collapsed": true
   },
   "outputs": [],
   "source": []
  },
  {
   "cell_type": "code",
   "execution_count": null,
   "metadata": {
    "collapsed": true
   },
   "outputs": [],
   "source": []
  }
 ],
 "metadata": {
  "anaconda-cloud": {},
  "kernelspec": {
   "display_name": "Python [conda root]",
   "language": "python",
   "name": "conda-root-py"
  },
  "language_info": {
   "codemirror_mode": {
    "name": "ipython",
    "version": 3
   },
   "file_extension": ".py",
   "mimetype": "text/x-python",
   "name": "python",
   "nbconvert_exporter": "python",
   "pygments_lexer": "ipython3",
   "version": "3.5.2"
  }
 },
 "nbformat": 4,
 "nbformat_minor": 1
}
