{
 "cells": [
  {
   "cell_type": "markdown",
   "metadata": {},
   "source": [
    "## 快速排序"
   ]
  },
  {
   "cell_type": "code",
   "execution_count": 1,
   "metadata": {
    "collapsed": false
   },
   "outputs": [
    {
     "name": "stdout",
     "output_type": "stream",
     "text": [
      "[1, 3, 1, 2, 4, 5]\n",
      "[1, 3, 1, 2, 4, 5]\n",
      "[1, 3, 1, 2, 4, 5]\n",
      "[1, 1, 1, 3, 4, 5]\n",
      "[1, 1, 2, 3, 4, 5]\n"
     ]
    }
   ],
   "source": [
    "def quicksortCore(templist,left,right):\n",
    "    key = templist[right]\n",
    "    while left < right:\n",
    "        print(templist)\n",
    "        while left<right and templist[left]<=key:\n",
    "            left+=1\n",
    "        templist[right]=templist[left]\n",
    "        while left<right and templist[right]>=key:\n",
    "            right-=1\n",
    "        templist[left]=templist[right]\n",
    "    templist[right] = key\n",
    "    return right\n",
    "def quickSort(templist,left,right):\n",
    "    if left>=right:\n",
    "        return True\n",
    "    mid = quicksortCore(templist,left,right)\n",
    "    quickSort(templist,left,mid-1)\n",
    "    quickSort(templist,mid+1,right)\n",
    "\n",
    "mylist = [1,3,1,2,4,5]\n",
    "quickSort(mylist,0,len(mylist)-1)"
   ]
  },
  {
   "cell_type": "markdown",
   "metadata": {
    "collapsed": true
   },
   "source": [
    "## 堆排序 (大顶堆)"
   ]
  },
  {
   "cell_type": "code",
   "execution_count": 1,
   "metadata": {
    "collapsed": false
   },
   "outputs": [
    {
     "name": "stdout",
     "output_type": "stream",
     "text": [
      "[16, 7, 3, 20, 17, 8]\n",
      "[3, 7, 8, 16, 17, 20]\n"
     ]
    }
   ],
   "source": [
    "def sift_down(arr, start, end):\n",
    "    root = start\n",
    "    while True:\n",
    "        # 从root开始对最大堆调整\n",
    "        child = 2 * root + 1\n",
    "        if child > end:\n",
    "            break\n",
    " \n",
    "        # 找出两个child中交大的一个\n",
    "        if child + 1 <= end and arr[child] < arr[child + 1]:\n",
    "            child += 1\n",
    " \n",
    "        if arr[root] < arr[child]:\n",
    "            # 最大堆小于较大的child, 交换顺序\n",
    "            arr[root], arr[child] = arr[child], arr[root]\n",
    " \n",
    "            # 正在调整的节点设置为root\n",
    "            root = child\n",
    "        else:\n",
    "            # 无需调整的时候, 退出\n",
    "            break\n",
    " \n",
    " \n",
    "def heap_sort(arr):\n",
    "    # 从最后一个有子节点的孩子还是调整最大堆\n",
    "    first = len(arr) // 2 - 1\n",
    "    for start in range(first, -1, -1):\n",
    "        sift_down(arr, start, len(arr) - 1)\n",
    " \n",
    "    # 将最大的放到堆的最后一个, 堆-1, 继续调整排序\n",
    "    for end in range(len(arr) -1, 0, -1):\n",
    "        arr[0], arr[end] = arr[end], arr[0]\n",
    "        sift_down(arr, 0, end - 1)\n",
    "def main():\n",
    "    # [7, 95, 73, 65, 60, 77, 28, 62, 43]\n",
    "    # [3, 1, 4, 9, 6, 7, 5, 8, 2, 10]\n",
    "    l = [3, 1, 4, 9, 6, 7, 5, 8, 2, 10]\n",
    "    print (l)\n",
    "    heap_sort(l)\n",
    "    print (l)\n",
    "    \n",
    "if __name__ == \"__main__\":\n",
    "    array = [16, 7, 3, 20, 17, 8]\n",
    "    print(array)\n",
    "    heap_sort(array)\n",
    "    print(array)"
   ]
  },
  {
   "cell_type": "code",
   "execution_count": 8,
   "metadata": {
    "collapsed": false
   },
   "outputs": [
    {
     "name": "stdout",
     "output_type": "stream",
     "text": [
      "[16, 7, 3, 20, 17, 8]\n",
      "[20, 17, 8, 7, 16, 3]\n"
     ]
    }
   ],
   "source": [
    "def maxheap(data):\n",
    "    for i in range(len(data)//2-1,-1,-1):\n",
    "        shif_down_up(data,i,len(data)-1)\n",
    "    \n",
    "#     for end in range(len(data)-1,0,-1):\n",
    "#         data[0],data[end] = data[end],data[0]\n",
    "#         shif_down_up(data,0,end-1)\n",
    "\n",
    "def shif_down_up(data,start,end):  ## 构建最大堆\n",
    "    root = start\n",
    "    while True:\n",
    "        child = 2*root + 1\n",
    "        if child > end:\n",
    "            break\n",
    "        if child+1<end and data[child]<data[child+1]:\n",
    "            child += 1\n",
    "        if data[child]>data[root]:\n",
    "            data[child],data[root] = data[root],data[child]\n",
    "            root = child    \n",
    "        else:\n",
    "            break\n",
    "def shif_down_up(data,start,end):   ##构建最小堆\n",
    "    root = start\n",
    "    while True:\n",
    "        child = 2*root + 1\n",
    "        if child > end:\n",
    "            break\n",
    "        if child+1<end and data[child]>data[child+1]:\n",
    "            child += 1\n",
    "        if data[child]<data[root]:\n",
    "            data[child],data[root] = data[root],data[child]\n",
    "            root = child    \n",
    "        else:\n",
    "            break\n",
    "def arr2maxheap(data):\n",
    "    for i in range(len(data)//2-1,-1,-1):\n",
    "        root = i \n",
    "        while True:\n",
    "            child = 2 * root + 1\n",
    "            if child>len(data)-1:\n",
    "                break\n",
    "            if child+1<len(data)-1 and data[child]<data[child+1]:\n",
    "                child+=1\n",
    "            if data[child]>data[root]:\n",
    "                data[child],data[root] = data[root],data[child]\n",
    "                root = child\n",
    "            else:\n",
    "                break\n",
    "array = [16, 7, 3, 20, 17, 8]\n",
    "print(array)\n",
    "arr2maxheap(array)\n",
    "print(array)"
   ]
  },
  {
   "cell_type": "markdown",
   "metadata": {},
   "source": [
    "## 归并排序"
   ]
  },
  {
   "cell_type": "code",
   "execution_count": 1,
   "metadata": {
    "collapsed": false
   },
   "outputs": [
    {
     "name": "stdout",
     "output_type": "stream",
     "text": [
      "[1, 2, 3, 4, 5]\n"
     ]
    }
   ],
   "source": [
    "def merge_sort( li ):\n",
    "    #不断递归调用自己一直到拆分成成单个元素的时候就返回这个元素，不再拆分了\n",
    "    if len(li) == 1:\n",
    "        return li\n",
    "\n",
    "    #取拆分的中间位置\n",
    "    mid = len(li) // 2\n",
    "    #拆分过后左右两侧子串\n",
    "    left = li[:mid]\n",
    "    right = li[mid:]\n",
    "\n",
    "    #对拆分过后的左右再拆分 一直到只有一个元素为止\n",
    "    #最后一次递归时候ll和lr都会接到一个元素的列表\n",
    "    # 最后一次递归之前的ll和rl会接收到排好序的子序列\n",
    "    ll = merge_sort( left )\n",
    "    rl =merge_sort( right )\n",
    "\n",
    "    # 我们对返回的两个拆分结果进行排序后合并再返回正确顺序的子列表\n",
    "    # 这里我们调用拎一个函数帮助我们按顺序合并ll和lr\n",
    "    return merge(ll , rl)\n",
    "\n",
    "#这里接收两个列表\n",
    "def merge( left , right ):\n",
    "    # 从两个有顺序的列表里边依次取数据比较后放入result\n",
    "    # 每次我们分别拿出两个列表中最小的数比较，把较小的放入result\n",
    "    result = []\n",
    "    while len(left)>0 and len(right)>0 :\n",
    "        #为了保持稳定性，当遇到相等的时候优先把左侧的数放进结果列表，因为left本来也是大数列中比较靠左的\n",
    "        if left[0] <= right[0]:\n",
    "            result.append( left.pop(0) )\n",
    "        else:\n",
    "            result.append( right.pop(0) )\n",
    "    #while循环出来之后 说明其中一个数组没有数据了，我们把另一个数组添加到结果数组后面\n",
    "    result += left\n",
    "    result += right\n",
    "    return result\n",
    "\n",
    "if __name__ == '__main__':\n",
    "    li = [5,4 ,3 ,2 ,1]\n",
    "    li2 = merge_sort(li)\n",
    "    print(li2)"
   ]
  },
  {
   "cell_type": "markdown",
   "metadata": {},
   "source": []
  },
  {
   "cell_type": "code",
   "execution_count": null,
   "metadata": {
    "collapsed": true
   },
   "outputs": [],
   "source": []
  },
  {
   "cell_type": "code",
   "execution_count": null,
   "metadata": {
    "collapsed": true
   },
   "outputs": [],
   "source": []
  },
  {
   "cell_type": "markdown",
   "metadata": {},
   "source": []
  },
  {
   "cell_type": "code",
   "execution_count": null,
   "metadata": {
    "collapsed": false
   },
   "outputs": [],
   "source": []
  },
  {
   "cell_type": "code",
   "execution_count": null,
   "metadata": {
    "collapsed": true
   },
   "outputs": [],
   "source": []
  },
  {
   "cell_type": "code",
   "execution_count": null,
   "metadata": {
    "collapsed": true
   },
   "outputs": [],
   "source": []
  },
  {
   "cell_type": "code",
   "execution_count": null,
   "metadata": {
    "collapsed": true
   },
   "outputs": [],
   "source": []
  },
  {
   "cell_type": "code",
   "execution_count": null,
   "metadata": {
    "collapsed": true
   },
   "outputs": [],
   "source": []
  }
 ],
 "metadata": {
  "anaconda-cloud": {},
  "kernelspec": {
   "display_name": "Python [conda root]",
   "language": "python",
   "name": "conda-root-py"
  },
  "language_info": {
   "codemirror_mode": {
    "name": "ipython",
    "version": 3
   },
   "file_extension": ".py",
   "mimetype": "text/x-python",
   "name": "python",
   "nbconvert_exporter": "python",
   "pygments_lexer": "ipython3",
   "version": "3.5.2"
  }
 },
 "nbformat": 4,
 "nbformat_minor": 1
}
