{
 "cells": [
  {
   "cell_type": "markdown",
   "metadata": {},
   "source": [
    "## 面试题 8 "
   ]
  },
  {
   "cell_type": "code",
   "execution_count": 1,
   "metadata": {
    "collapsed": true
   },
   "outputs": [],
   "source": [
    "class TreeLinkNode:\n",
    "    def __init__(self, x):\n",
    "        self.val = x\n",
    "        self.left = None\n",
    "        self.right = None\n",
    "        self.next = None\n",
    "class Solution:\n",
    "    def GetNext(self, pNode):\n",
    "        # write code here\n",
    "        if pNode.right != None:\n",
    "            temp = pNode.right\n",
    "            while temp.left != None:\n",
    "                temp = temp.left\n",
    "            return temp\n",
    "        elif pNode.next!=None and pNode.next.left == pNode:\n",
    "            return pNode.next\n",
    "        else:\n",
    "            temp = pNode.next\n",
    "            while  temp.next!=None and temp.next.left!=temp:\n",
    "                temp = temp.next\n",
    "            return temp.next\n",
    "            "
   ]
  },
  {
   "cell_type": "markdown",
   "metadata": {},
   "source": [
    "## 面试题 11"
   ]
  },
  {
   "cell_type": "code",
   "execution_count": 13,
   "metadata": {
    "collapsed": false
   },
   "outputs": [
    {
     "data": {
      "text/plain": [
       "0"
      ]
     },
     "execution_count": 13,
     "metadata": {},
     "output_type": "execute_result"
    }
   ],
   "source": [
    "class Solution:\n",
    "    def minNumberInRotateArray(self, rotateArray):## 这种情况有bug   [1,1,0,1,1]    \n",
    "        # write code here\n",
    "        if len(rotateArray) == 0:\n",
    "            return 0\n",
    "        i = 0\n",
    "        j = len(rotateArray)-1\n",
    "        while j-i != 1:\n",
    "            mid = (i+j)//2\n",
    "            if rotateArray[mid]>=rotateArray[i]:\n",
    "                i = mid\n",
    "            elif rotateArray[mid]<=rotateArray[j]:\n",
    "                j = mid\n",
    "        return rotateArray[j]\n",
    "Solution().minNumberInRotateArray([1,1,0,1,1])"
   ]
  },
  {
   "cell_type": "markdown",
   "metadata": {},
   "source": [
    "## 面试题 12"
   ]
  },
  {
   "cell_type": "code",
   "execution_count": 50,
   "metadata": {
    "collapsed": false
   },
   "outputs": [],
   "source": [
    "class Solution:\n",
    "    def hasPath(self, matrix, rows, cols, path):\n",
    "        # write code here\n",
    "        if matrix == None or rows <1 or cols <1 or path ==None:\n",
    "            return False\n",
    "        \n",
    "        visited = [0]*(rows*cols)\n",
    "        pathlength = 0\n",
    "        \n",
    "        for row in range(rows):\n",
    "            for col in range(cols):\n",
    "                if self.hasPathCore(matrix,rows,cols,row,col,path,pathlength,visited):\n",
    "                    return True\n",
    "        return False\n",
    "    def hasPathCore(self,matrix,rows,cols,row,col,path,pathLength,visited):\n",
    "        if len(path) == pathLength:\n",
    "            return True\n",
    "        hasPath = False\n",
    "        if row >= 0 and row < rows and col >= 0 and col < cols and matrix[row*cols+col] == path[pathLength] and not visited[row*cols + col]:\n",
    "            pathLength += 1\n",
    "            visited[row*cols+col] = True\n",
    "            hasPath = self.hasPathCore(matrix,rows,cols,row,col - 1,path,pathLength,visited) or \\\n",
    "                    self.hasPathCore(matrix,rows,cols,row - 1,col,path,pathLength,visited) or \\\n",
    "                    self.hasPathCore(matrix,rows,cols,row,col + 1,path,pathLength,visited) or \\\n",
    "                    self.hasPathCore(matrix,rows,cols,row + 1,col,path,pathLength,visited) \n",
    "\n",
    "            if not hasPath:\n",
    "                pathLength -= 1\n",
    "                visited[row*cols+row] = False\n",
    "        return hasPath"
   ]
  },
  {
   "cell_type": "markdown",
   "metadata": {},
   "source": [
    "## 面试题 13  机器人的运动路径"
   ]
  },
  {
   "cell_type": "code",
   "execution_count": 52,
   "metadata": {
    "collapsed": true
   },
   "outputs": [],
   "source": [
    "class Solution:\n",
    "    def movingCount(self, threshold, rows, cols):\n",
    "        # write code here\n",
    "        visited = [False]*(rows*cols)\n",
    "        count = self.movingCountCore(threshold, rows, cols, 0, 0, visited)\n",
    "        return count\n",
    "    def movingCountCore(self,threshold,rows,cols,row,col,visited):\n",
    "        count = 0\n",
    "        if self.check(threshold,rows,cols,row,col,visited):\n",
    "            visited[row*cols+col] = True\n",
    "            count = 1+self.movingCountCore(threshold,rows,cols,row-1,col,visited)+ \\\n",
    "                    self.movingCountCore(threshold,rows,cols,row+1,col,visited)+ \\\n",
    "                    self.movingCountCore(threshold,rows,cols,row,col-1,visited)+ \\\n",
    "                    self.movingCountCore(threshold,rows,cols,row,col+1,visited)\n",
    "        return count\n",
    "    def check(self, threshold,rows,cols,row,col,visited):\n",
    "        if row >= 0 and row <rows and col >=0 and col<cols and self.getDigitSum(row)+self.getDigitSum(col)<=threshold and \\\n",
    "        not visited[row*cols+col]:\n",
    "            return True\n",
    "        return False\n",
    "        \n",
    "    def getDigitSum(self,number):\n",
    "        sum = 0\n",
    "        while number!=0:\n",
    "            sum += number%10\n",
    "            number = number //10\n",
    "        return sum\n",
    "    def movingCount2(self, threshold, rows, cols):\n",
    "        count = 0 \n",
    "        for row in range(rows):\n",
    "            for col in range(cols):\n",
    "                if self.getDigitSum(row)+self.getDigitSum(col)<=threshold:\n",
    "                    count += 1\n",
    "        return count"
   ]
  },
  {
   "cell_type": "markdown",
   "metadata": {
    "collapsed": true
   },
   "source": [
    "## 面试题 15 二进制中1的个数\n"
   ]
  },
  {
   "cell_type": "code",
   "execution_count": 11,
   "metadata": {
    "collapsed": false
   },
   "outputs": [],
   "source": [
    "class Solution:\n",
    "    def NumberOf1(self, n):\n",
    "        # write code here\n",
    "        sumnum = 0\n",
    "        if n < 0:\n",
    "            n = n & 0xffffffff\n",
    "        while n != 0:\n",
    "            sumnum += 1\n",
    "            n = (n - 1) & n\n",
    "        return sumnum\n"
   ]
  },
  {
   "cell_type": "markdown",
   "metadata": {
    "collapsed": true
   },
   "source": [
    "## 面试题 18\n",
    "链表1->2->3->3->4->4->5 处理后为 1->2->5"
   ]
  },
  {
   "cell_type": "code",
   "execution_count": 1,
   "metadata": {
    "collapsed": true
   },
   "outputs": [],
   "source": [
    "-*- coding:utf-8 -*-\n",
    "class ListNode:\n",
    "    def __init__(self, x):\n",
    "        self.val = x\n",
    "        self.next = None\n",
    "class Solution:\n",
    "    def deleteDuplication(self, pHead):\n",
    "        # write code here\n",
    "        first = ListNode(-1)\n",
    "        first.next = pHead\n",
    "        last = first\n",
    "        if pHead==None or pHead.next ==None:\n",
    "            return first.next\n",
    "        \n",
    "        while pHead!=None and pHead.next !=None:\n",
    "            if pHead.val == pHead.next.val:\n",
    "                val = pHead.val\n",
    "                while pHead!=None and val==pHead.val:\n",
    "                    pHead = pHead.next\n",
    "                last.next = pHead\n",
    "            else:\n",
    "                last = pHead\n",
    "                pHead = pHead.next\n",
    "    \n",
    "        return first.next"
   ]
  },
  {
   "cell_type": "markdown",
   "metadata": {
    "collapsed": true
   },
   "source": [
    "## 面试题 19 正则表达式"
   ]
  },
  {
   "cell_type": "code",
   "execution_count": 29,
   "metadata": {
    "collapsed": false
   },
   "outputs": [
    {
     "data": {
      "text/plain": [
       "True"
      ]
     },
     "execution_count": 29,
     "metadata": {},
     "output_type": "execute_result"
    }
   ],
   "source": [
    "class Solution:\n",
    "    # s, pattern都是字符串\n",
    "    def match(self, s, pattern):\n",
    "        # write code here\n",
    "        if s == '' and pattern=='':\n",
    "            return True\n",
    "        elif pattern=='' :\n",
    "            return False\n",
    "        elif s == '':\n",
    "            if len(pattern)<2:\n",
    "                return False\n",
    "            else :\n",
    "                return self.match(s,pattern[2:])\n",
    "\n",
    "        if pattern[0]=='.':\n",
    "            return self.match(s[1:],pattern[1:])\n",
    "        else:\n",
    "            if len(pattern)<2:\n",
    "                if pattern[0]==s[0] :\n",
    "                    return self.match(s[1:],pattern[1:])\n",
    "                else:\n",
    "                    return False\n",
    "            else:\n",
    "                if pattern[1]=='*':\n",
    "                    if pattern[0]!=s[0]:\n",
    "                        return self.match(s,pattern[2:])\n",
    "                    else:\n",
    "                        while pattern[0]==s[0]:\n",
    "                            s = s[1:]\n",
    "                        return self.match(s,pattern[2:])\n",
    "                else:\n",
    "                    if pattern[0]==s[0]:\n",
    "                        return self.match(s[1:],pattern[1:])\n",
    "                    else:\n",
    "                        return False\n",
    "Solution().match('aaa','a.a')"
   ]
  },
  {
   "cell_type": "code",
   "execution_count": 63,
   "metadata": {
    "collapsed": false
   },
   "outputs": [
    {
     "name": "stdout",
     "output_type": "stream",
     "text": [
      "aaa 段 a*a\n",
      "aaa 段 a\n",
      "aa 段 \n",
      "aa 段 a\n",
      "a 段 \n",
      "aa 段 a*a\n",
      "aa 段 a\n",
      "a 段 \n",
      "a 段 a\n",
      " 段 \n"
     ]
    },
    {
     "data": {
      "text/plain": [
       "True"
      ]
     },
     "execution_count": 63,
     "metadata": {},
     "output_type": "execute_result"
    }
   ],
   "source": [
    "class Solution:\n",
    "    # s, pattern都是字符串\n",
    "    def match(self, s, pattern):\n",
    "        print(s,'段',pattern)\n",
    "        if s == '' and pattern =='':\n",
    "            return True\n",
    "        elif s != '' and pattern=='':\n",
    "            return False\n",
    "        elif s == '' and pattern!='':\n",
    "            if len(pattern) > 1 and pattern[1] == '*':\n",
    "                return self.match(s, pattern[2:])\n",
    "            else:\n",
    "                return False\n",
    "            \n",
    "        if len(pattern)<2:\n",
    "            if s[0]==pattern[0] or pattern[0]=='.':\n",
    "                return self.match(s[1:],pattern[1:])\n",
    "            else:\n",
    "                return False\n",
    "        else:\n",
    "            if pattern[1]=='*':\n",
    "                if s[0]!=pattern[0] and pattern[0]!='.':\n",
    "                    return self.match(s,pattern[2:])\n",
    "                else:\n",
    "                    return self.match(s,pattern[2:]) or self.match(s[1:],pattern[2:])or self.match(s[1:],pattern)\n",
    "            else:\n",
    "                if s[0]==pattern[0] or pattern[0] == '.':\n",
    "                    return self.match(s[1:],pattern[1:])\n",
    "                else:\n",
    "                    return False\n",
    "Solution().match('aaa','a*a')"
   ]
  },
  {
   "cell_type": "markdown",
   "metadata": {},
   "source": [
    "## 面试题 20 表示数值的字符串\n",
    "请实现一个函数用来判断字符串是否表示数值（包括整数和小数）。例如，字符串\"+100\",\"5e2\",\"-123\",\"3.1416\"和\"-1E-16\"都表示数值。 但是\"12e\",\"1a3.14\",\"1.2.3\",\"+-5\"和\"12e+4.3\"都不是。"
   ]
  },
  {
   "cell_type": "code",
   "execution_count": 65,
   "metadata": {
    "collapsed": true
   },
   "outputs": [],
   "source": [
    "class Solution:\n",
    "    # s字符串\n",
    "    def isNumeric(self, s):\n",
    "        # write code here\n",
    "        if len(s) <= 0:\n",
    "            return False\n",
    "        # 分别标记是否出现过正负号、小数点、e，因为这几个需要特殊考虑\n",
    "        has_sign = False\n",
    "        has_point = False\n",
    "        has_e = False\n",
    "        for i in range(len(s)):\n",
    "            # 对于e的情况\n",
    "            if s[i] == 'E' or s[i] == 'e':\n",
    "                # 不同出现两个e\n",
    "                if has_e:\n",
    "                    return False\n",
    "                # e不能出现在最后面，因为e后面要接数字\n",
    "                else:\n",
    "                    has_e = True\n",
    "                    if i == len(s) -1:\n",
    "                        return False   \n",
    "            # 对于符号位的情况\n",
    "            elif s[i] == '+' or s[i] == '-':\n",
    "                # 如果前面已经出现过了符号位，那么这个符号位，必须是跟在e后面的\n",
    "                if has_sign:\n",
    "                    if s[i-1] != 'e' and s[i-1] != 'E':\n",
    "                        return False\n",
    "                # 如果这是第一次出现符号位，而且出现的位置不是字符串第一个位置，那么就只能出现在e后面\n",
    "                else:\n",
    "                    has_sign = True\n",
    "                    if i > 0 and s[i-1] != 'e' and s[i-1] != 'E':\n",
    "                        return False\n",
    "            # 对于小数点的情况\n",
    "            elif s[i] == '.':\n",
    "                # 小数点不能出现两次；而且如果已经出现过e了，那么就不能再出现小数点，因为e后面只能是整数\n",
    "                if has_point or has_e:\n",
    "                    return False\n",
    "                # 如果是第一次出现小数点，如果前面出现过e，那么还是不能出现小数点\n",
    "                else:\n",
    "                    has_point = True\n",
    "                    if i > 0 and (s[i-1] == 'e' or s[i-1] == 'E'):\n",
    "                        return False\n",
    "            else:\n",
    "                # 其他字符必须是‘0’到‘9’之间的\n",
    "                if s[i] < '0' or s[i] > '9':\n",
    "                    return False\n",
    "        return True"
   ]
  },
  {
   "cell_type": "markdown",
   "metadata": {},
   "source": [
    "## 面试题 21 调整数组顺序，使得奇数位于偶数前面"
   ]
  },
  {
   "cell_type": "code",
   "execution_count": 68,
   "metadata": {
    "collapsed": false
   },
   "outputs": [
    {
     "data": {
      "text/plain": [
       "[1, 3, 5, 2, 4]"
      ]
     },
     "execution_count": 68,
     "metadata": {},
     "output_type": "execute_result"
    }
   ],
   "source": [
    "class Solution:\n",
    "    def reOrderArray(self, array):\n",
    "        # write code here\n",
    "        return sorted(array,key=lambda c:c%2,reverse=True)\n",
    "Solution().reOrderArray([1,2,3,4,5])"
   ]
  },
  {
   "cell_type": "markdown",
   "metadata": {},
   "source": [
    "## 面试题 23  链表中环的入口节点"
   ]
  },
  {
   "cell_type": "code",
   "execution_count": 73,
   "metadata": {
    "collapsed": false
   },
   "outputs": [],
   "source": [
    "class ListNode:\n",
    "    def __init__(self, x):\n",
    "        self.val = x\n",
    "        self.next = None\n",
    "class Solution:\n",
    "    def EntryNodeOfLoop(self, pHead):\n",
    "        # write code here\n",
    "        if pHead==None:\n",
    "            return None\n",
    "        last = pHead\n",
    "        pro = pHead.next\n",
    "        while pro!=None and pro.next!=None  and pro!=last: ##   可以不加这个 and pro.next.next!=None\n",
    "            pro = pro.next.next\n",
    "            last = last.next\n",
    "        if pro != last:\n",
    "            return None\n",
    "        count = 1\n",
    "        temp = pro.next\n",
    "        while temp!=pro:\n",
    "            count+=1\n",
    "            temp = temp.next\n",
    "        pro = pHead\n",
    "        last = pHead\n",
    "        while count>0:\n",
    "            pro=pro.next\n",
    "            count-=1\n",
    "        while pro!=last:\n",
    "            pro = pro.next\n",
    "            last = last.next\n",
    "        return pro\n",
    "Solution().EntryNodeOfLoop(ListNode(0))"
   ]
  },
  {
   "cell_type": "markdown",
   "metadata": {},
   "source": [
    "## 面试题 24 反转链表"
   ]
  },
  {
   "cell_type": "code",
   "execution_count": 74,
   "metadata": {
    "collapsed": true
   },
   "outputs": [],
   "source": [
    "class ListNode:\n",
    "    def __init__(self, x):\n",
    "        self.val = x\n",
    "        self.next = None\n",
    "class Solution:\n",
    "    # 返回ListNode\n",
    "    def ReverseList(self, pHead):\n",
    "        proNode = None\n",
    "        nowNode = pHead\n",
    "        \n",
    "        if pHead ==None:\n",
    "            return None\n",
    "        elif pHead.next == None:\n",
    "            return pHead\n",
    "        \n",
    "        lastNode = now.next\n",
    "        \n",
    "        while lastNode != None:\n",
    "            nowNode.next = proNode\n",
    "            proNode = nowNode\n",
    "            nowNode = lastNode\n",
    "            lastNode = lastNode.next\n",
    "        nowNode.next = proNode\n",
    "        return nowNode\n",
    "        \n",
    "class Solution:\n",
    "    # 返回ListNode\n",
    "    def ReverseList(self, pHead):\n",
    "        # write code here\n",
    "        if not pHead or not pHead.next:\n",
    "            return pHead\n",
    "        else:\n",
    "            newHead = self.ReverseList(pHead.next)\n",
    "            pHead.next.next=pHead\n",
    "            pHead.next=None\n",
    "            return newHead\n",
    "    "
   ]
  },
  {
   "cell_type": "markdown",
   "metadata": {},
   "source": [
    "## 面试题 28 对称的二叉树"
   ]
  },
  {
   "cell_type": "code",
   "execution_count": 80,
   "metadata": {
    "collapsed": false
   },
   "outputs": [],
   "source": [
    "class TreeNode:\n",
    "    def __init__(self, x):\n",
    "        self.val = x\n",
    "        self.left = None\n",
    "        self.right = None\n",
    "class Solution:\n",
    "    def isSymmetrical(self, pRoot):\n",
    "        # write code here\n",
    "        return self.isSymmetricalCore(pRoot,pRoot)\n",
    "    def isSymmetricalCore(self,pRoot1,pRoot2):\n",
    "        if pRoot1==None and pRoot2==None:\n",
    "            return True\n",
    "        if pRoot1==None or pRoot2==None:\n",
    "            return False\n",
    "        if pRoot1.val!=pRoot2.val:\n",
    "            return False\n",
    "        return self.isSymmetricalCore(pRoot1.left,pRoot2.right) and self.isSymmetricalCore(pRoot1.right,pRoot2.left)"
   ]
  },
  {
   "cell_type": "markdown",
   "metadata": {},
   "source": [
    "## 面试题 32  打印多行   树 分行打印"
   ]
  },
  {
   "cell_type": "code",
   "execution_count": 83,
   "metadata": {
    "collapsed": false
   },
   "outputs": [],
   "source": [
    "class TreeNode:\n",
    "    def __init__(self, x):\n",
    "        self.val = x\n",
    "        self.left = None\n",
    "        self.right = None\n",
    "class Solution:\n",
    "    # 返回二维列表[[1,2],[4,5]]\n",
    "    def Print(self, pRoot):\n",
    "        # write code here    \n",
    "        if pRoot == None:\n",
    "            return [[]]\n",
    "        que = [pRoot]\n",
    "        printnum = []\n",
    "        while que!=[]:\n",
    "\n",
    "            length = len(que)\n",
    "            temp = []\n",
    "            index = 0\n",
    "            while index<length:\n",
    "                temp.append(que[index].val)\n",
    "                index += 1\n",
    "            printnum.append(temp)\n",
    "            index = 0\n",
    "            while index<length:\n",
    "                index+=1\n",
    "                key = que.pop(0)\n",
    "                if key.left!=None:\n",
    "                    que.append(key.left)\n",
    "                if key.right!=None:\n",
    "                    que.append(key.right)\n",
    "            \n",
    "        return printnum"
   ]
  },
  {
   "cell_type": "markdown",
   "metadata": {},
   "source": [
    "## 面试题 32 按之字型打印二叉树\n",
    "请实现一个函数按照之字形打印二叉树，即第一行按照从左到右的顺序打印，第二层按照从右至左的顺序打印，第三行按照从左到右的顺序打印，其他行以此类推。"
   ]
  },
  {
   "cell_type": "code",
   "execution_count": 84,
   "metadata": {
    "collapsed": true
   },
   "outputs": [],
   "source": [
    "class TreeNode:\n",
    "    def __init__(self, x):\n",
    "        self.val = x\n",
    "        self.left = None\n",
    "        self.right = None\n",
    "class Solution:\n",
    "    def Print(self, pRoot):\n",
    "        # write code here    \n",
    "        if pRoot == None:\n",
    "            return [[]]\n",
    "        que = [pRoot]\n",
    "        printnum = []\n",
    "        row = 0\n",
    "        while que!=[]:\n",
    "\n",
    "            length = len(que)\n",
    "            temp = []\n",
    "            index = 0\n",
    "            while index<length:\n",
    "                temp.append(que[index].val)\n",
    "                index += 1\n",
    "            if row&1==0:\n",
    "                printnum.append(temp)\n",
    "            else:\n",
    "                printnum.append(reversed(temp))\n",
    "            row+=1\n",
    "            index = 0\n",
    "            while index<length:\n",
    "                index+=1\n",
    "                key = que.pop(0)\n",
    "                if key.left!=None:\n",
    "                    que.append(key.left)\n",
    "                if key.right!=None:\n",
    "                    que.append(key.right)\n",
    "            \n",
    "        return printnum"
   ]
  },
  {
   "cell_type": "markdown",
   "metadata": {
    "collapsed": false
   },
   "source": [
    "## 面试题 34 二叉树中和为某一值得路径\n",
    "输入一颗二叉树的跟节点和一个整数，打印出二叉树中结点值的和为输入整数的所有路径。路径定义为从树的根结点开始往下一直到叶结点所经过的结点形成一条路径。(注意: 在返回值的list中，数组长度大的数组靠前)"
   ]
  },
  {
   "cell_type": "code",
   "execution_count": 2,
   "metadata": {
    "collapsed": false
   },
   "outputs": [],
   "source": [
    "class TreeNode:\n",
    "    def __init__(self, x):\n",
    "        self.val = x\n",
    "        self.left = None\n",
    "        self.right = None\n",
    "class Solution:\n",
    "    # 返回二维列表，内部每个列表表示找到的路径\n",
    "    def FindPath(self, root, expectNumber):\n",
    "        # write code here\n",
    "        if root == None:\n",
    "            return []\n",
    "        elif root.val == expectNumber and root.left==None and root.right ==None:\n",
    "            return [[root.val]]\n",
    "        else:\n",
    "            temp = []\n",
    "#             temp.append(root.val)\n",
    "            left = self.FindPath(root.left,expectNumber-root.val)\n",
    "            right = self.FindPath(root.right,expectNumber-root.val)\n",
    "            for i in left+right:\n",
    "                temp.append([root.val]+i)\n",
    "            return temp\n",
    "class Solution:\n",
    "    def FindPath(self, root, expectNumber):\n",
    "        if (root is None):\n",
    "            return []\n",
    "        if (root and not root.left and not root.right and root.val == expectNumber):\n",
    "            return [[root.val]]\n",
    "        pathList = []\n",
    "        left = self.FindPath(root.left, expectNumber - root.val)\n",
    "        right = self.FindPath(root.right, expectNumber - root.val)\n",
    "        for i in (left + right):\n",
    "            pathList.append([root.val] + i)\n",
    "        return pathList"
   ]
  },
  {
   "cell_type": "code",
   "execution_count": 12,
   "metadata": {
    "collapsed": false
   },
   "outputs": [
    {
     "data": {
      "text/plain": [
       "[0, 1, 3]"
      ]
     },
     "execution_count": 12,
     "metadata": {},
     "output_type": "execute_result"
    }
   ],
   "source": [
    "class TreeNode:\n",
    "    def __init__(self, x):\n",
    "        self.val = x\n",
    "        self.left = None\n",
    "        self.right = None\n",
    "class Solution:\n",
    "    # 返回二维列表，内部每个列表表示找到的路径\n",
    "    def getPath(self, root, node):\n",
    "        if root == node:\n",
    "            return [node.val]\n",
    "        elif root == None:\n",
    "            return []\n",
    "        else:\n",
    "            result = []\n",
    "            temp = self.getPath(root.left,node)\n",
    "            temp2 = self.getPath(root.right,node)\n",
    "            if node.val in temp:\n",
    "                result = [root.val]+temp\n",
    "            elif node.val in temp2:\n",
    "                result = [root.val]+temp2\n",
    "            return result \n",
    "a = TreeNode(0)\n",
    "a.left = TreeNode(1)\n",
    "a.right = TreeNode(2)\n",
    "a.left.right = TreeNode(3)\n",
    "temp = a.left.right\n",
    "Solution().getPath(a,temp)"
   ]
  },
  {
   "cell_type": "markdown",
   "metadata": {},
   "source": [
    "## 面试题 36 二叉搜索树与双向链表"
   ]
  },
  {
   "cell_type": "code",
   "execution_count": 6,
   "metadata": {
    "collapsed": false
   },
   "outputs": [],
   "source": [
    "class TreeNode:\n",
    "    def __init__(self, x):\n",
    "        self.val = x\n",
    "        self.left = None\n",
    "        self.right = None\n",
    "class Solution:\n",
    "    def Convert(self, pRootOfTree):\n",
    "        # write code here\n",
    "        if pRootOfTree == None:\n",
    "            return pRootOfTree\n",
    "        if pRootOfTree.left == None and pRootOfTree.right == None:\n",
    "            return pRootOfTree\n",
    "        self.Convert(pRootOfTree.left)\n",
    "        \n",
    "        left = pRootOfTree.left\n",
    "        if left:\n",
    "            while left.right:\n",
    "                left = left.right\n",
    "            left.right = pRootOfTree\n",
    "            pRootOfTree.left = left\n",
    "        self.Convert(pRootOfTree.right)\n",
    "        \n",
    "        right = pRootOfTree.right\n",
    "        if right:\n",
    "            while right.left:\n",
    "                right = right.left\n",
    "            right.left = pRootOfTree\n",
    "            pRootOfTree.right = right\n",
    "        while pRootOfTree.left:\n",
    "            pRootOfTree = pRootOfTree.left\n",
    "        \n",
    "        return pRootOfTree\n",
    "            \n",
    "        \n",
    "        \n",
    "        \n",
    "        \n",
    "        \n",
    "        \n",
    "        \n",
    "        \n",
    "        \n",
    "        \n",
    "#     def ConvertLeftCore(self,pRootOfTree):\n",
    "#         last = None\n",
    "#         if pRootOfTree == None:\n",
    "#             return None\n",
    "#         last = pRootOfTree\n",
    "#         if pRootOfTree.left!=None and pRootOfTree.left==None and pRootOfTree.right==None:\n",
    "# #             head = pRootOfTree.left\n",
    "#             pRootOfTree.left.right = pRootOfTree\n",
    "#         elif pRootOfTree.right!=None and pRootOfTree.left==None and pRootOfTree.right == None:\n",
    "#             pRootOfTree.right.left = pRootOfTree\n",
    "#             last = pRootOfTree.right        \n",
    "#         return last\n",
    "        \n",
    "#     def ConvertRightCore(self,pRootOfTree):\n",
    "#         head = None\n",
    "#         if pRootOfTree==None:\n",
    "#             return None\n",
    "#         if pRootOfTree.right!=None and pRootOfTree.left==None and pRootOfTree.right==None:\n",
    "#             head = pRootOfTree.left\n",
    "#             pRootOfTree.left.right = pRootOfTree\n",
    "#         else:\n",
    "#             head = pRootOfTree\n",
    "#         if pRootOfTree.right!=None and pRootOfTree.left==None and pRootOfTree.right == None:\n",
    "#             pRootOfTree.right.left = pRootOfTree\n",
    "        \n",
    "\n",
    "            "
   ]
  },
  {
   "cell_type": "markdown",
   "metadata": {},
   "source": [
    "## 面试题 37 序列化二叉树"
   ]
  },
  {
   "cell_type": "code",
   "execution_count": 14,
   "metadata": {
    "collapsed": false
   },
   "outputs": [
    {
     "data": {
      "text/plain": [
       "<__main__.TreeNode at 0x1f69cdee828>"
      ]
     },
     "execution_count": 14,
     "metadata": {},
     "output_type": "execute_result"
    }
   ],
   "source": [
    "class TreeNode:\n",
    "    def __init__(self, x):\n",
    "        self.val = x\n",
    "        self.left = None\n",
    "        self.right = None\n",
    "class Solution:\n",
    "    def __init__(self):\n",
    "        self.flag = -1\n",
    "    def Serialize(self, root):\n",
    "        # write code here\n",
    "        temp = ''\n",
    "        if root==None:\n",
    "            return '$'\n",
    "        else:\n",
    "            temp = temp+str(root.val)\n",
    "            temp = temp+','+self.Serialize(root.left)\n",
    "            temp = temp+','+self.Serialize(root.right)\n",
    "        return temp\n",
    "    def Deserialize(self, s):\n",
    "        # write code here\n",
    "        self.flag += 1\n",
    "        l = s.split(',')\n",
    "        root = None\n",
    "        if self.flag>=len(s):\n",
    "            return None\n",
    "#         if l[self.flag] =='$':      \n",
    "#             return None\n",
    "#         else:\n",
    "#             root = TreeNode(int(l[self.flag]))\n",
    "#             root.left = self.Deserialize(s)\n",
    "#             root.right = self.Deserialize(s)\n",
    "        if l[self.flag]!='$':\n",
    "            root = TreeNode(int(l[self.flag]))\n",
    "            root.left = self.Deserialize(s)\n",
    "            root.right = self.Deserialize(s)\n",
    "        return root\n",
    "s = Solution().Serialize(TreeNode(0))\n",
    "Solution().Deserialize(s)\n"
   ]
  },
  {
   "cell_type": "markdown",
   "metadata": {},
   "source": [
    "## 面试题 38 字符串得排列"
   ]
  },
  {
   "cell_type": "code",
   "execution_count": 8,
   "metadata": {
    "collapsed": false
   },
   "outputs": [],
   "source": [
    "class Solution:\n",
    "    def Permutation(self, ss):\n",
    "        # write code here\n",
    "        if ss == '':\n",
    "            return []\n",
    "        if len(ss) == 1:\n",
    "            return list(ss)\n",
    "        \n",
    "        charlist = list(ss)\n",
    "        charlist.sort()\n",
    "        \n",
    "        resultstr = []\n",
    "        \n",
    "        for i in range(len(charlist)):\n",
    "            if i > 0 and charlist[i]==charlist[i-1]:\n",
    "                continue\n",
    "            temp = self.Permutation(''.join(charlist[:i])+''.join(charlist[i+1:]))\n",
    "            for j in temp:\n",
    "                resultstr.append(charlist[i]+j)\n",
    "        return resultstr\n",
    "\n",
    "def str_sort(s=''):\n",
    "    if len(s) <= 1:\n",
    "        return [s]\n",
    "    str_list = []\n",
    "    for i in range(len(s)):\n",
    "        for j in str_sort(s[0:i] + s[i + 1:]):\n",
    "            str_list.append(s[i] + j)\n",
    "    return str_list\n",
    "\n",
    "\n",
    "# str_list = str_sort('abc')\n",
    "# print(len(str_list), str_list)"
   ]
  },
  {
   "cell_type": "code",
   "execution_count": 3,
   "metadata": {
    "collapsed": false
   },
   "outputs": [
    {
     "name": "stdout",
     "output_type": "stream",
     "text": [
      "[1, 3, 1, 2, 4, 5, 11]\n",
      "[1, 3, 1, 2, 4, 5, 11]\n",
      "[1, 3, 1, 2, 4, 5, 11]\n",
      "[1, 1, 2, 3, 4, 5, 11]\n",
      "[1, 1, 2, 3, 4, 5, 11]\n",
      "[1, 1, 2, 3, 4, 5, 11]\n",
      "[1, 1, 2, 3, 4, 5, 11]\n",
      "[1, 1, 2, 3, 4, 5, 11]\n"
     ]
    },
    {
     "data": {
      "text/plain": [
       "3"
      ]
     },
     "execution_count": 3,
     "metadata": {},
     "output_type": "execute_result"
    }
   ],
   "source": [
    "def partition(templist,left,right):\n",
    "    key = templist[right]\n",
    "    while left < right:\n",
    "        \n",
    "        while left<right and templist[left]<=key:\n",
    "            left+=1\n",
    "        templist[right]=templist[left]\n",
    "        while left<right and templist[right]>=key:\n",
    "            right-=1\n",
    "        templist[left]=templist[right]\n",
    "    templist[right] = key\n",
    "    print(templist)\n",
    "    return right\n",
    "def search(templist):\n",
    "#     if left>=right:\n",
    "#         return True\n",
    "#     mid = le\n",
    "    ##mid = (len(templist)-1)>>1\n",
    "    mid =3\n",
    "    index = partition(templist,0,len(templist)-1)\n",
    "    while mid != index:\n",
    "        if index < mid:\n",
    "            index = partition(templist,index+1,len(templist)-1)\n",
    "        else:\n",
    "            index = partition(templist,0,index-1)\n",
    "    return templist[mid]\n",
    "mylist = [1,3,1,2,4,5,11]\n",
    "search(mylist)"
   ]
  },
  {
   "cell_type": "markdown",
   "metadata": {
    "collapsed": true
   },
   "source": [
    "## 面试题 39 数组中出现超过一半的数"
   ]
  },
  {
   "cell_type": "code",
   "execution_count": 2,
   "metadata": {
    "collapsed": true
   },
   "outputs": [],
   "source": [
    "class Solution:\n",
    "    def MoreThanHalfNum_Solution(self, numbers):\n",
    "        # write code here\n",
    "        temp = 0\n",
    "        num = 0\n",
    "        for key in numbers:\n",
    "            if num == 0:\n",
    "                temp = key\n",
    "                num = 1\n",
    "            else:\n",
    "                if temp == key :\n",
    "                    num+=1\n",
    "                else:\n",
    "                    num-=1\n",
    "        tempnum = 0\n",
    "        for key in numbers:\n",
    "            if key == temp :\n",
    "                tempnum+=1\n",
    "        if tempnum>(len(numbers)/2):\n",
    "            return temp\n",
    "        return 0"
   ]
  },
  {
   "cell_type": "markdown",
   "metadata": {},
   "source": [
    "## 面试题 40 最小的k个数"
   ]
  },
  {
   "cell_type": "code",
   "execution_count": 3,
   "metadata": {
    "collapsed": true
   },
   "outputs": [],
   "source": [
    "class Solution:\n",
    "    def GetLeastNumbers_Solution(self, tinput, k):\n",
    "        # write code here\n",
    "        if len(tinput) < k:\n",
    "            return tinput\n",
    "        start = 0\n",
    "        end  = len(tinput)-1\n",
    "        mid = self.partition(tinput,start,end)\n",
    "        \n",
    "        while  mid !=  k-1:\n",
    "            if mid<k-1:\n",
    "                start = mid+1\n",
    "                mid  =self.partition(tinput,start,end)\n",
    "            else:\n",
    "                end = mid-1\n",
    "                mid = self.partition(tinput,start,end)\n",
    "        return sorted(tinput[:mid+1])\n",
    "    \n",
    "            \n",
    "    def partition(self, numbers,low,high):\n",
    "        temp = numbers[high]\n",
    "        while low < high:\n",
    "            while low <high and numbers[low]<=temp:\n",
    "                low+=1\n",
    "            numbers[high] = numbers[low]\n",
    "            \n",
    "            while low<high and numbers[high]>=temp:\n",
    "                high-=1\n",
    "            numbers[low] = numbers[high]\n",
    "            \n",
    "        numbers[high] = temp\n",
    "        return high"
   ]
  },
  {
   "cell_type": "code",
   "execution_count": 7,
   "metadata": {
    "collapsed": false
   },
   "outputs": [
    {
     "name": "stdout",
     "output_type": "stream",
     "text": [
      "[16, 7, 3, 20, 17, 8]\n",
      "[3, 7, 8, 16, 17, 20]\n"
     ]
    }
   ],
   "source": [
    "def sift_down(arr, start, end):\n",
    "    root = start\n",
    "    while True:\n",
    "        # 从root开始对最大堆调整\n",
    "        child = 2 * root + 1\n",
    "        if child > end:\n",
    "            break\n",
    " \n",
    "        # 找出两个child中交大的一个\n",
    "        if child + 1 <= end and arr[child] < arr[child + 1]:\n",
    "            child += 1\n",
    " \n",
    "        if arr[root] < arr[child]:\n",
    "            # 最大堆小于较大的child, 交换顺序\n",
    "            arr[root], arr[child] = arr[child], arr[root]\n",
    " \n",
    "            # 正在调整的节点设置为root\n",
    "            root = child\n",
    "        else:\n",
    "            # 无需调整的时候, 退出\n",
    "            break\n",
    " \n",
    " \n",
    "def heap_sort(arr):\n",
    "    # 从最后一个有子节点的孩子还是调整最大堆\n",
    "    first = len(arr) // 2 - 1\n",
    "    for start in range(first, -1, -1):\n",
    "        sift_down(arr, start, len(arr) - 1)\n",
    " \n",
    "    # 将最大的放到堆的最后一个, 堆-1, 继续调整排序\n",
    "    for end in range(len(arr) -1, 0, -1):\n",
    "        arr[0], arr[end] = arr[end], arr[0]\n",
    "        sift_down(arr, 0, end - 1)\n",
    "def main():\n",
    "    # [7, 95, 73, 65, 60, 77, 28, 62, 43]\n",
    "    # [3, 1, 4, 9, 6, 7, 5, 8, 2, 10]\n",
    "    l = [3, 1, 4, 9, 6, 7, 5, 8, 2, 10]\n",
    "    print (l)\n",
    "    heap_sort(l)\n",
    "    print (l)\n",
    "    \n",
    "if __name__ == \"__main__\":\n",
    "    array = [16, 7, 3, 20, 17, 8]\n",
    "    print(array)\n",
    "    heap_sort(array)\n",
    "    print(array)"
   ]
  },
  {
   "cell_type": "markdown",
   "metadata": {},
   "source": [
    "## 面试题 41 数据流中的中位数"
   ]
  },
  {
   "cell_type": "code",
   "execution_count": 3,
   "metadata": {
    "collapsed": false
   },
   "outputs": [
    {
     "data": {
      "text/plain": [
       "4"
      ]
     },
     "execution_count": 3,
     "metadata": {},
     "output_type": "execute_result"
    }
   ],
   "source": [
    "class Solution:\n",
    "    def __init__(self):\n",
    "        self.data = []\n",
    "    def Insert(self, num):\n",
    "        # write code here\n",
    "        self.data.append(num)\n",
    "        self.data.sort()\n",
    "    def GetMedian(self,data):\n",
    "        # write code here\n",
    "        length = len(self.data)\n",
    "        if not len(self.data)&1:\n",
    "            return (self.data[length//2]+self.data[length//2-1])/2.0\n",
    "        else:\n",
    "            return self.data[length//2]\n",
    "\n",
    "        \n",
    "class Solution:\n",
    "    def __init__(self):\n",
    "        self.left = []\n",
    "        self.right = []\n",
    "        self.count = 0\n",
    "    def Insert(self, num):\n",
    "        if self.count & 1 == 0:\n",
    "            self.left.append(num)\n",
    "        else:\n",
    "            self.right.append(num)\n",
    "        self.count += 1\n",
    "\n",
    "    def GetMedian(self, x):\n",
    "        if self.count == 1:\n",
    "            return self.left[0]\n",
    "        self.MaxHeap(self.left)\n",
    "        self.MinHeap(self.right)\n",
    "        if self.left[0] > self.right[0]:\n",
    "            self.left[0], self.right[0] = self.right[0], self.left[0]\n",
    "        self.MaxHeap(self.left)\n",
    "        self.MinHeap(self.right)\n",
    "        if self.count & 1 == 0:\n",
    "            return (self.left[0] + self.right[0])/2.0\n",
    "        else:\n",
    "            return self.left[0]\n",
    "\n",
    "    def MaxHeap(self, alist):\n",
    "        length = len(alist)\n",
    "        if alist == None or length <= 0:\n",
    "            return\n",
    "        if length == 1:\n",
    "            return alist\n",
    "        for i in range(length//2-1, -1, -1):\n",
    "            k = i; temp = alist[k]; heap = False\n",
    "            while not heap and 2*k < length-1:\n",
    "                index = 2*k+1\n",
    "                if index < length - 1:\n",
    "                    if alist[index] < alist[index + 1]: \n",
    "                        index += 1\n",
    "                if temp >= alist[index]:\n",
    "                    heap = True\n",
    "                else:\n",
    "                    alist[k] = alist[index]\n",
    "                    k = index\n",
    "            alist[k] = temp\n",
    "\n",
    "    def MinHeap(self, alist):\n",
    "        length = len(alist)\n",
    "        if alist == None or length <= 0:\n",
    "            return\n",
    "        if length == 1:\n",
    "            return alist\n",
    "        for i in range(length//2-1, -1, -1):\n",
    "            k = i; temp = alist[k]; heap = False\n",
    "            while not heap and 2 * k < length - 1:\n",
    "                index = 2 * k+1\n",
    "                if index < length - 1:\n",
    "                    if alist[index] > alist[index + 1]: index += 1\n",
    "                if temp <= alist[index]:\n",
    "                    heap = True\n",
    "                else:\n",
    "                    alist[k] = alist[index]\n",
    "                    k = index\n",
    "            alist[k] = temp"
   ]
  },
  {
   "cell_type": "markdown",
   "metadata": {},
   "source": [
    "## 面试题 42 连续子数组的最大和"
   ]
  },
  {
   "cell_type": "code",
   "execution_count": 4,
   "metadata": {
    "collapsed": true
   },
   "outputs": [],
   "source": [
    "class Solution:\n",
    "    def FindGreatestSumOfSubArray(self, array):\n",
    "        if array==[]:\n",
    "            return 0\n",
    "        curentsum = 0\n",
    "        maxsum = 0\n",
    "        \n",
    "        for key in array:\n",
    "            curentsum += key\n",
    "            if cenrentsum >= maxsum:\n",
    "                maxsum = cenrentsum\n",
    "            if cenrentsum < 0:\n",
    "                curentsum = 0\n",
    "        \n",
    "        return maxsum"
   ]
  },
  {
   "cell_type": "markdown",
   "metadata": {},
   "source": [
    "## 面试题 43 1出现的次数"
   ]
  },
  {
   "cell_type": "code",
   "execution_count": 5,
   "metadata": {
    "collapsed": false
   },
   "outputs": [
    {
     "data": {
      "text/plain": [
       "2"
      ]
     },
     "execution_count": 5,
     "metadata": {},
     "output_type": "execute_result"
    }
   ],
   "source": [
    "class Solution:\n",
    "    def NumberOf1Between1AndN_Solution(self, n):\n",
    "        count = 0\n",
    "        for key in range(1,n+1):\n",
    "            temp = str(key)\n",
    "            count+=temp.count('1')\n",
    "        return count\n",
    "Solution().NumberOf1Between1AndN_Solution(10)\n",
    "\n",
    "    def NumberOf1Between1AndN_Solution(self, n):\n",
    "        # write code here\n",
    "        res=0\n",
    "        tmp=n\n",
    "        base=1\n",
    "        while tmp:\n",
    "            last=tmp%10\n",
    "            tmp=tmp/10\n",
    "            res+=tmp*base\n",
    "            if last==1:\n",
    "                res+=n%base+1\n",
    "            elif last>1:\n",
    "                res+=base\n",
    "            base*=10\n",
    "        return res"
   ]
  },
  {
   "cell_type": "markdown",
   "metadata": {},
   "source": [
    "## 面试题 45 把数组排列成最小的数"
   ]
  },
  {
   "cell_type": "code",
   "execution_count": 17,
   "metadata": {
    "collapsed": false
   },
   "outputs": [
    {
     "name": "stdout",
     "output_type": "stream",
     "text": [
      "['332321', '332132', '323321', '323213', '321332', '321323']\n"
     ]
    },
    {
     "data": {
      "text/plain": [
       "321323"
      ]
     },
     "execution_count": 17,
     "metadata": {},
     "output_type": "execute_result"
    }
   ],
   "source": [
    "class Solution:\n",
    "    def PrintMinNumber(self, numbers):\n",
    "        # write code here\n",
    "        temp = self.all(numbers)\n",
    "        maxnum = int(temp[0])\n",
    "        for key in temp:\n",
    "            if int(key) < maxnum:\n",
    "                maxnum = int(key)\n",
    "        print(temp)\n",
    "        return maxnum\n",
    "    def all(self,numbers):\n",
    "        if numbers == []:\n",
    "            return []\n",
    "        if len(numbers) == 1:\n",
    "            return [str(numbers[0])]\n",
    "        result = []\n",
    "        \n",
    "        for i in range(len(numbers)):\n",
    "            temp = self.all(numbers[:i]+numbers[i+1:])\n",
    "            for j in temp:\n",
    "                result.append(str(numbers[i])+j)\n",
    "        return result\n",
    "            \n",
    "Solution().PrintMinNumber([3,32,321])"
   ]
  },
  {
   "cell_type": "markdown",
   "metadata": {},
   "source": [
    "## 面试题 49 丑数\n",
    "把只包含质因子2、3和5的数称作丑数（Ugly Number）。例如6、8都是丑数，但14不是，因为它包含质因子7。 习惯上我们把1当做是第一个丑数。求按从小到大的顺序的第N个丑数。"
   ]
  },
  {
   "cell_type": "code",
   "execution_count": 33,
   "metadata": {
    "collapsed": false
   },
   "outputs": [
    {
     "data": {
      "text/plain": [
       "2"
      ]
     },
     "execution_count": 33,
     "metadata": {},
     "output_type": "execute_result"
    }
   ],
   "source": [
    "class Solution:\n",
    "    def GetUglyNumber_Solution(self, index):\n",
    "        # write code here\n",
    "        if index<0:\n",
    "            return 0\n",
    "        number = 0\n",
    "        uglyfound = 0\n",
    "        while uglyfound < index:\n",
    "            number+=1\n",
    "            if self.isUgly(number):\n",
    "                uglyfound+=1\n",
    "        return number\n",
    "    def isUgly(self,number):\n",
    "        while number%2==0:\n",
    "            number = number/2\n",
    "        while number%3==0:\n",
    "            number /= 3\n",
    "        while number%5==0:\n",
    "            number /= 5\n",
    "        if number == 1:\n",
    "            return True\n",
    "        else:\n",
    "            return False\n",
    "# Solution().GetUglyNumber_Solution(4)\n",
    "class Solution:\n",
    "    def GetUglyNumber_Solution(self, index):\n",
    "        # write code here\n",
    "        if  index <=0 :\n",
    "            return 0\n",
    "        allnumber = [1]\n",
    "        nextindex = 1\n",
    "        T2 = 0\n",
    "        T3 = 0\n",
    "        T5 = 0\n",
    "        \n",
    "        while nextindex<index:\n",
    "            allnumber.append(min(allnumber[T2]*2,allnumber[T3]*3,allnumber[T5]*5)) \n",
    "            while allnumber[T2]*2<=allnumber[nextindex]:\n",
    "                T2+=1\n",
    "            while allnumber[T3]*3<=allnumber[nextindex]:\n",
    "                T3+=1\n",
    "            while allnumber[T5]*5<=allnumber[nextindex]:\n",
    "                T5+=1\n",
    "            nextindex+=1\n",
    "        return allnumber[index-1]\n",
    "Solution().GetUglyNumber_Solution(2)"
   ]
  },
  {
   "cell_type": "markdown",
   "metadata": {},
   "source": [
    "## 面试题 50 第一次只出现一次的字符"
   ]
  },
  {
   "cell_type": "code",
   "execution_count": 75,
   "metadata": {
    "collapsed": false
   },
   "outputs": [],
   "source": [
    "class Solution:\n",
    "    def FirstNotRepeatingChar(self, s):\n",
    "        temp = {}\n",
    "        for key in s:\n",
    "            if key not in temp:\n",
    "                temp[key]=1\n",
    "            else:\n",
    "                temp[key]+=1\n",
    "        for key in range(len(s)):\n",
    "            if temp[s[key]]==1:\n",
    "                return key\n",
    "        return -1\n",
    "class Solution:\n",
    "    def FirstNotRepeatingChar(self, s):\n",
    "        for key in range(len(s)):\n",
    "            if s[key] not in s[:key]+s[key+1:]:\n",
    "                return key\n",
    "        return -1"
   ]
  },
  {
   "cell_type": "markdown",
   "metadata": {},
   "source": [
    "## 面试题 50  字符流中第一个不重复的字符"
   ]
  },
  {
   "cell_type": "code",
   "execution_count": 79,
   "metadata": {
    "collapsed": false
   },
   "outputs": [],
   "source": [
    "class Solution:\n",
    "    # 返回对应char\n",
    "    def __init__(self):\n",
    "        self.s = {}\n",
    "        self.index = 0\n",
    "    def FirstAppearingOnce(self):\n",
    "        # write code here\n",
    "        result = '#'\n",
    "        minnum = max(self.s.values())\n",
    "        for key , val in self.s.items():\n",
    "            if val>=0 and val <minnum:\n",
    "                result = key\n",
    "                minnum = val\n",
    "        return result\n",
    "    def Insert(self, char):\n",
    "        # write code here\n",
    "        if char not in self.s:\n",
    "            self.s[char] = self.index\n",
    "        else:\n",
    "            self.s[char] = -2\n",
    "        self.index+=1\n"
   ]
  },
  {
   "cell_type": "markdown",
   "metadata": {},
   "source": [
    "## 面试题 51 数组中的逆序对"
   ]
  },
  {
   "cell_type": "code",
   "execution_count": 1,
   "metadata": {
    "collapsed": true
   },
   "outputs": [],
   "source": [
    "class Solution:\n",
    "    def InversePairs(self, data):\n",
    "        # write code here\n",
    "        sumnum = 0\n",
    "        for i in range(len(data)):\n",
    "            for j in range(i,len(data)):\n",
    "                if data[i]>data[j]:\n",
    "                    sumnum+=1\n",
    "        return sumnum%1000000007\n",
    "class Solution:\n",
    "    def InversePairs(self, data):\n",
    "        if data==[] or data ==None:\n",
    "            return 0\n",
    "        copy = [0]*len(data)\n",
    "        copy[:] = data[:]\n",
    "        count = self.InversePairsCore(data,copy,0,length-1)\n",
    "        return count\n",
    "        \n",
    "    def InversePairsCore(self,data,copy,start,end):\n",
    "        if start == end:\n",
    "            copy[start] = data[start]\n",
    "            return 0\n",
    "        length = (end - start)//2\n",
    "        left = InversePairsCore(copy,data,start,start+length)\n",
    "        right = InversePairsCore(copy,data,start+length+1,end)\n",
    "        \n",
    "        i = start + length\n",
    "        \n",
    "        j = end\n",
    "        \n",
    "        indexcopy = end\n",
    "        count = 0\n",
    "        while i>=start and j >=start+length+1:\n",
    "            if data[i]>data[j]:\n",
    "                copy[indexcopy] = data[i]\n",
    "                indexcopy-=1\n",
    "                i -= 1\n",
    "            else:\n",
    "                copy[indexcopy]=data[j]\n",
    "                indexcopy-=1\n",
    "                j -= 1\n",
    "        copy[:indexcopy+1] = data[start:i+1]\n",
    "        copy[:indexcopy+1] = data[start+length+1:j+1]\n",
    "        return left+right+count"
   ]
  },
  {
   "cell_type": "markdown",
   "metadata": {},
   "source": [
    "## 面试题 52 两个链表的第一个公共节点"
   ]
  },
  {
   "cell_type": "code",
   "execution_count": null,
   "metadata": {
    "collapsed": true
   },
   "outputs": [],
   "source": []
  },
  {
   "cell_type": "code",
   "execution_count": null,
   "metadata": {
    "collapsed": true
   },
   "outputs": [],
   "source": [
    "class ListNode:\n",
    "    def __init__(self, x):\n",
    "        self.val = x\n",
    "        self.next = None\n",
    "class Solution:\n",
    "    def FindFirstCommonNode(self, pHead1, pHead2):\n",
    "        # write code here\n",
    "        q = pHead1\n",
    "        while q != None:\n",
    "            p = pHead2\n",
    "            while p!=None:\n",
    "                if q==p:\n",
    "                    return q\n",
    "                p = p.next\n",
    "            q = q.next\n",
    "        return None\n",
    "    def FindFirstCommonNode(self, pHead1, pHead2):\n",
    "        # write code here\n",
    "        q = pHead1\n",
    "        p = pHead2\n",
    "        \n",
    "        while q!=p and q.next!=None and q.next!=p and p.next!=None and q!=p.next and q.next!=p.next:\n",
    "            q = q.next\n",
    "            p = p.next\n",
    "        if q==p:\n",
    "            return q\n",
    "        elif q.next==p:\n",
    "            return p\n",
    "        elif q == p.next:\n",
    "            return q\n",
    "        return None"
   ]
  },
  {
   "cell_type": "markdown",
   "metadata": {},
   "source": [
    "## 面试题 53 在排序数组中查找数字"
   ]
  },
  {
   "cell_type": "code",
   "execution_count": null,
   "metadata": {
    "collapsed": true
   },
   "outputs": [],
   "source": [
    "class Solution:\n",
    "    def GetNumberOfK(self, data, k):\n",
    "        # write code here\n",
    "        if len(data)==0:\n",
    "            return 0\n",
    "        low  = 0\n",
    "        high = len(data)-1\n",
    "#         count = 0\n",
    "#         mid = (high+low)//2\n",
    "        while low<=high:\n",
    "            mid = (high+low)//2\n",
    "            if data[mid]<k:\n",
    "                high = mid -1\n",
    "            elif data[mid]>k:\n",
    "                low = mid+1\n",
    "            else:\n",
    "                if data[low]==k and data[high]==k:\n",
    "                    return high-low+1\n",
    "                elif data[low]<k:\n",
    "                    low += 1\n",
    "                else:\n",
    "                    high -= 1\n",
    "        return 0"
   ]
  },
  {
   "cell_type": "markdown",
   "metadata": {},
   "source": [
    "## 面试题 54 二叉树搜索树的第k大的节点"
   ]
  },
  {
   "cell_type": "code",
   "execution_count": 62,
   "metadata": {
    "collapsed": false
   },
   "outputs": [
    {
     "name": "stdout",
     "output_type": "stream",
     "text": [
      "[<__main__.TreeNode object at 0x00000162EE5EB9E8>, <__main__.TreeNode object at 0x00000162EE5EBA90>, <__main__.TreeNode object at 0x00000162EE5EBA20>]\n"
     ]
    },
    {
     "data": {
      "text/plain": [
       "<__main__.TreeNode at 0x162ee5eb9e8>"
      ]
     },
     "execution_count": 62,
     "metadata": {},
     "output_type": "execute_result"
    }
   ],
   "source": [
    "# class TreeNode:\n",
    "#     def __init__(self, x):\n",
    "#         self.val = x\n",
    "#         self.left = None\n",
    "#         self.right = None\n",
    "# class Solution:\n",
    "#     # 返回对应节点TreeNode\n",
    "#     def KthNode(self, pRoot, k):\n",
    "#         # write code here\n",
    "#         result = self.midsearch(pRoot)\n",
    "#         if k>len(result) or k<= 0:\n",
    "#             return None\n",
    "#         print(result)\n",
    "#         return result[k-1]\n",
    "#     def midsearch(self,pRoot):\n",
    "#         if pRoot == None:\n",
    "#             return []\n",
    "        \n",
    "#         result = []\n",
    "#         left = self.midsearch(pRoot.left)\n",
    "#         result += left\n",
    "#         result.append(pRoot)\n",
    "#         right = self.midsearch(pRoot.right)\n",
    "#         result += right\n",
    "        \n",
    "#         return result\n",
    "\n",
    "\n",
    "class Solution:\n",
    "    # 返回对应节点TreeNode\n",
    "    def KthNode(self, pRoot, k):\n",
    "        # write code here\n",
    "        #第三个节点是4\n",
    "        #前序遍历5324768\n",
    "        #中序遍历2345678\n",
    "        #后序遍历2436875\n",
    "        #所以是中序遍历，左根右\n",
    "        global result\n",
    "        result=[]\n",
    "        self.midnode(pRoot)\n",
    "        print(result)\n",
    "        if  k<=0 or len(result)<k:\n",
    "            \n",
    "            return None\n",
    "        else:\n",
    "            return result[k-1]\n",
    "              \n",
    "    def midnode(self,root):\n",
    "        if not root:\n",
    "            return None\n",
    "        self.midnode(root.left)\n",
    "        result.append(root)\n",
    "        self.midnode(root.right)\n",
    "temp = TreeNode(8)\n",
    "temp.left = TreeNode(6)\n",
    "temp.right = TreeNode(10)\n",
    "Solution().KthNode(temp,1)"
   ]
  },
  {
   "cell_type": "markdown",
   "metadata": {},
   "source": [
    "## 面试题 55 平衡二叉树"
   ]
  },
  {
   "cell_type": "code",
   "execution_count": 63,
   "metadata": {
    "collapsed": true
   },
   "outputs": [],
   "source": [
    "class TreeNode:\n",
    "    def __init__(self, x):\n",
    "        self.val = x\n",
    "        self.left = None\n",
    "        self.right = None\n",
    "class Solution:\n",
    "    def IsBalanced_Solution(self, pRoot):\n",
    "        # write code here\n",
    "        if pRoot == None:\n",
    "            return True\n",
    "        \n",
    "        temp = self.IsBalanced_SolutionCore(pRoot.left)-self.IsBalanced_SolutionCore(pRoot.right)\n",
    "        if temp>1 or temp <-1:\n",
    "            return False\n",
    "        return self.IsBalanced_Solution(pRoot.left) and self.IsBalanced_Solution(pRoot.right)\n",
    "    def IsBalanced_SolutionCore(self,pRoot):\n",
    "        if pRoot==None:\n",
    "            return 0 \n",
    "        left = IsBalanced_Solution(pRoot.left)\n",
    "        right = IsBalanced_Solution(pRoot.right)\n",
    "        \n",
    "        return 1+max(left,right)"
   ]
  },
  {
   "cell_type": "markdown",
   "metadata": {},
   "source": [
    "## 面试题 57 和为s的两个数字"
   ]
  },
  {
   "cell_type": "code",
   "execution_count": 19,
   "metadata": {
    "collapsed": false
   },
   "outputs": [
    {
     "data": {
      "text/plain": [
       "[4, 11]"
      ]
     },
     "execution_count": 19,
     "metadata": {},
     "output_type": "execute_result"
    }
   ],
   "source": [
    "class Solution:\n",
    "    def FindNumbersWithSum(self, array, tsum):\n",
    "        # write code here\n",
    "        for i in range(len(array)):\n",
    "            for j in range(i+1,len(array)):\n",
    "                if array[i]+array[j]==tsum:\n",
    "                    return [array[i],array[j]]\n",
    "        return []\n",
    "class Solution:\n",
    "    def FindNumbersWithSum(self, array, tsum):\n",
    "        # write code here\n",
    "        i = 0 \n",
    "        j = len(array)-1\n",
    "        if j == 0:\n",
    "            return []\n",
    "        while array[i]+array[j]!=tsum and i <= j:\n",
    "            if array[i]+array[j]>tsum:\n",
    "                j -= 1\n",
    "            elif array[i]+array[j]<tsum:\n",
    "                i += 1\n",
    "        if j < i:\n",
    "            return []\n",
    "        return [array[i],array[j]]\n",
    "Solution().FindNumbersWithSum([1,2,4,7,11,15],15)"
   ]
  },
  {
   "cell_type": "markdown",
   "metadata": {},
   "source": [
    "## 面试题 57 和为s的连续正整数序列\n",
    "小明很喜欢数学,有一天他在做数学作业时,要求计算出9~16的和,他马上就写出了正确答案是100。但是他并不满足于此,他在想究竟有多少种连续的正数序列的和为100(至少包括两个数)。没多久,他就得到另一组连续正数和为100的序列:18,19,20,21,22。现在把问题交给你,你能不能也很快的找出所有和为S的连续正数序列? Good Luck!"
   ]
  },
  {
   "cell_type": "code",
   "execution_count": 22,
   "metadata": {
    "collapsed": false
   },
   "outputs": [
    {
     "data": {
      "text/plain": [
       "[[1, 2, 3, 4, 5], [4, 5, 6], [7, 8]]"
      ]
     },
     "execution_count": 22,
     "metadata": {},
     "output_type": "execute_result"
    }
   ],
   "source": [
    "class Solution:\n",
    "    def FindContinuousSequence(self, tsum):\n",
    "        # write code\n",
    "        small = 1\n",
    "        big = 2\n",
    "        result = []\n",
    "        sumnum = small + big\n",
    "        while(small<(1+tsum)/2):\n",
    "#             sumnum = self.sumNums(small,big)\n",
    "            if sumnum<tsum:\n",
    "                big += 1\n",
    "                sumnum += big\n",
    "            elif sumnum >tsum:\n",
    "                sumnum -= small\n",
    "                small+=1\n",
    "            else:\n",
    "                result.append([i for i in range(small,big+1)])\n",
    "                big+=1\n",
    "                sumnum += big\n",
    "        return result\n",
    "        \n",
    "    def sumNums(self,low,high):\n",
    "        return sum([i for i in range(low,high+1)])\n",
    "Solution().FindContinuousSequence(15)"
   ]
  },
  {
   "cell_type": "markdown",
   "metadata": {},
   "source": [
    "## 面试题 58 翻转字符串"
   ]
  },
  {
   "cell_type": "code",
   "execution_count": 54,
   "metadata": {
    "collapsed": false
   },
   "outputs": [
    {
     "data": {
      "text/plain": [
       "[]"
      ]
     },
     "execution_count": 54,
     "metadata": {},
     "output_type": "execute_result"
    }
   ],
   "source": [
    "class Solution:\n",
    "    def ReverseSentence(self, s):\n",
    "\n",
    "        temp = s.split()\n",
    "        temp.reverse()\n",
    "        return ' '.join(temp)\n",
    "# Solution().ReverseSentence('duan yue feng')\n",
    "'  '.split()"
   ]
  },
  {
   "cell_type": "markdown",
   "metadata": {},
   "source": [
    "## 面试题 58 左旋转字符串\n",
    "汇编语言中有一种移位指令叫做循环左移（ROL），现在有个简单的任务，就是用字符串模拟这个指令的运算结果。对于一个给定的字符序列S，请你把其循环左移K位后的序列输出。例如，字符序列S=”abcXYZdef”,要求输出循环左移3位后的结果，即“XYZdefabc”。是不是很简单？OK，搞定它！"
   ]
  },
  {
   "cell_type": "code",
   "execution_count": 24,
   "metadata": {
    "collapsed": false
   },
   "outputs": [
    {
     "data": {
      "text/plain": [
       "'BCA'"
      ]
     },
     "execution_count": 24,
     "metadata": {},
     "output_type": "execute_result"
    }
   ],
   "source": [
    "class Solution:\n",
    "    def LeftRotateString(self, s, n):\n",
    "        # write code here\n",
    "        length = len(s)\n",
    "        n = n%length\n",
    "        return s[n:]+s[:n]\n",
    "Solution().LeftRotateString('ABC',1)"
   ]
  },
  {
   "cell_type": "markdown",
   "metadata": {},
   "source": [
    "## 面试题 61 扑克牌的顺序"
   ]
  },
  {
   "cell_type": "code",
   "execution_count": 25,
   "metadata": {
    "collapsed": true
   },
   "outputs": [],
   "source": [
    "class Solution:\n",
    "    def IsContinuous(self, numbers):\n",
    "        # write code here\n",
    "        numbers.sort()\n",
    "        zero = numbers.count(0)\n",
    "        sumnum = 0\n",
    "        for i in range(zero,len(numbers)-1):\n",
    "            if numbers[i+1]-numbers[i]==0:\n",
    "                return False\n",
    "            sumnum += numbers[i+1]-numbers[i]-1\n",
    "        if zero>=sumnum:\n",
    "            return True"
   ]
  },
  {
   "cell_type": "markdown",
   "metadata": {},
   "source": [
    "## 面试题 62 圆圈中最后剩下的数\n",
    "每年六一儿童节,牛客都会准备一些小礼物去看望孤儿院的小朋友,今年亦是如此。HF作为牛客的资深元老,自然也准备了一些小游戏。其中,有个游戏是这样的:首先,让小朋友们围成一个大圈。然后,他随机指定一个数m,让编号为0的小朋友开始报数。每次喊到m-1的那个小朋友要出列唱首歌,然后可以在礼品箱中任意的挑选礼物,并且不再回到圈中,从他的下一个小朋友开始,继续0...m-1报数....这样下去....直到剩下最后一个小朋友,可以不用表演,并且拿到牛客名贵的“名侦探柯南”典藏版(名额有限哦!!^_^)。请你试着想下,哪个小朋友会得到这份礼品呢？(注：小朋友的编号是从0到n-1)"
   ]
  },
  {
   "cell_type": "code",
   "execution_count": 42,
   "metadata": {
    "collapsed": false
   },
   "outputs": [],
   "source": [
    "class Solution:\n",
    "    def LastRemaining_Solution(self, n, m):\n",
    "        # write code here\n",
    "        if not m or not n :\n",
    "            return -1\n",
    "        numlist = [i for i in range(n)]\n",
    "        i = 0 \n",
    "        while len(numlist)!=1:\n",
    "\n",
    "            i = (m+i-1)%len(numlist)\n",
    "            numlist.pop(i)\n",
    "\n",
    "        return numlist[0]\n",
    "Solution().LastRemaining_Solution(5,3)\n",
    "\n",
    "# -*- coding:utf-8 -*-\n",
    "class Solution:\n",
    "    def LastRemaining_Solution(self, n, m):\n",
    "        # write code here\n",
    "        numlist = [i for i in range(n)]\n",
    "        i = 0 \n",
    "        while len(numlist)!=1:\n",
    "            j = 0\n",
    "\n",
    "            while j != m-1 :\n",
    "#                 print(i)\n",
    "                j += 1\n",
    "                if i <len(numlist)-1:\n",
    "                    i += 1\n",
    "                else:\n",
    "                    i = 0\n",
    "            del numlist[i]\n",
    "            \n",
    "            if i > len(numlist)-1:\n",
    "                i = 0\n",
    "        return numlist[0]"
   ]
  },
  {
   "cell_type": "markdown",
   "metadata": {},
   "source": [
    "## 面试题 64 求 1+    + n"
   ]
  },
  {
   "cell_type": "code",
   "execution_count": 55,
   "metadata": {
    "collapsed": true
   },
   "outputs": [],
   "source": [
    "class Solution:\n",
    "    def Sum_Solution(self, n):\n",
    "        # write code here\n",
    "        return n and self.Sum_Solution(n - 1) + n"
   ]
  },
  {
   "cell_type": "markdown",
   "metadata": {},
   "source": [
    "## 面试题 65 不用加减乘除做加法"
   ]
  },
  {
   "cell_type": "code",
   "execution_count": 61,
   "metadata": {
    "collapsed": false
   },
   "outputs": [
    {
     "data": {
      "text/plain": [
       "56766"
      ]
     },
     "execution_count": 61,
     "metadata": {},
     "output_type": "execute_result"
    }
   ],
   "source": [
    "class Solution:\n",
    "    def Add(self, num1, num2):\n",
    "        # write code here\n",
    "        while num2!=0:\n",
    "            sumnum = num1^num2\n",
    "            carry = (num1&num2)<<1\n",
    "            num1 = sumnum\n",
    "            num2 = carry\n",
    "        return num1\n",
    "Solution().Add(100,56666)\n",
    "            "
   ]
  },
  {
   "cell_type": "markdown",
   "metadata": {},
   "source": [
    "## 面试题 66 构建乘积数组"
   ]
  },
  {
   "cell_type": "code",
   "execution_count": 64,
   "metadata": {
    "collapsed": true
   },
   "outputs": [],
   "source": [
    "class Solution:\n",
    "    def multiply(self, A):\n",
    "        # write code here\n",
    "        if not A or len(A) <= 0:\n",
    "            return\n",
    "        length = len(A)\n",
    "        lis = [1] * length\n",
    "        for i in range(1,length):\n",
    "            lis[i] = lis[i-1] * A[i-1]\n",
    "        temp = 1\n",
    "        for i in range(length-2,-1,-1):\n",
    "            temp = temp * A[i+1]\n",
    "            lis[i] *= temp\n",
    "        return lis"
   ]
  },
  {
   "cell_type": "code",
   "execution_count": 74,
   "metadata": {
    "collapsed": false
   },
   "outputs": [
    {
     "data": {
      "text/plain": [
       "0"
      ]
     },
     "execution_count": 74,
     "metadata": {},
     "output_type": "execute_result"
    }
   ],
   "source": [
    "class Solution:\n",
    "    def StrToInt(self, s):\n",
    "        # write code here\n",
    "        if s=='':\n",
    "            return 0\n",
    "        numstr = ''\n",
    "        temp = s[0]\n",
    "        s = list(s)\n",
    "        while s!=[]:\n",
    "            if s[len(s)-1]=='+' or s[len(s)-1]=='-':\n",
    "                s.pop()\n",
    "            elif s[len(s)-1]>='0' and s[len(s)-1]<='9':\n",
    "                numstr = s[len(s)-1]+numstr\n",
    "                s.pop()\n",
    "            else:\n",
    "                return 0\n",
    "        if numstr!='':\n",
    "            if temp =='-':\n",
    "                return -int(numstr)\n",
    "            return int(numstr)\n",
    "        else:\n",
    "            return 0\n",
    "Solution().StrToInt('-a124')"
   ]
  }
 ],
 "metadata": {
  "anaconda-cloud": {},
  "kernelspec": {
   "display_name": "Python [conda root]",
   "language": "python",
   "name": "conda-root-py"
  },
  "language_info": {
   "codemirror_mode": {
    "name": "ipython",
    "version": 3
   },
   "file_extension": ".py",
   "mimetype": "text/x-python",
   "name": "python",
   "nbconvert_exporter": "python",
   "pygments_lexer": "ipython3",
   "version": "3.5.2"
  }
 },
 "nbformat": 4,
 "nbformat_minor": 1
}
