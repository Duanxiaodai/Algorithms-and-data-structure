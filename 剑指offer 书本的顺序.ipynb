{
 "cells": [
  {
   "cell_type": "markdown",
   "metadata": {},
   "source": [
    "## 面试题 8 "
   ]
  },
  {
   "cell_type": "code",
   "execution_count": 1,
   "metadata": {
    "collapsed": true
   },
   "outputs": [],
   "source": [
    "class TreeLinkNode:\n",
    "    def __init__(self, x):\n",
    "        self.val = x\n",
    "        self.left = None\n",
    "        self.right = None\n",
    "        self.next = None\n",
    "class Solution:\n",
    "    def GetNext(self, pNode):\n",
    "        # write code here\n",
    "        if pNode.right != None:\n",
    "            temp = pNode.right\n",
    "            while temp.left != None:\n",
    "                temp = temp.left\n",
    "            return temp\n",
    "        elif pNode.next!=None and pNode.next.left == pNode:\n",
    "            return pNode.next\n",
    "        else:\n",
    "            temp = pNode.next\n",
    "            while  temp.next!=None and temp.next.left!=temp:\n",
    "                temp = temp.next\n",
    "            return temp.next\n",
    "            "
   ]
  },
  {
   "cell_type": "markdown",
   "metadata": {},
   "source": [
    "## 面试题 11"
   ]
  },
  {
   "cell_type": "code",
   "execution_count": 13,
   "metadata": {
    "collapsed": false
   },
   "outputs": [
    {
     "data": {
      "text/plain": [
       "0"
      ]
     },
     "execution_count": 13,
     "metadata": {},
     "output_type": "execute_result"
    }
   ],
   "source": [
    "class Solution:\n",
    "    def minNumberInRotateArray(self, rotateArray):## 这种情况有bug   [1,1,0,1,1]    \n",
    "        # write code here\n",
    "        if len(rotateArray) == 0:\n",
    "            return 0\n",
    "        i = 0\n",
    "        j = len(rotateArray)-1\n",
    "        while j-i != 1:\n",
    "            mid = (i+j)//2\n",
    "            if rotateArray[mid]>=rotateArray[i]:\n",
    "                i = mid\n",
    "            elif rotateArray[mid]<=rotateArray[j]:\n",
    "                j = mid\n",
    "        return rotateArray[j]\n",
    "Solution().minNumberInRotateArray([1,1,0,1,1])"
   ]
  },
  {
   "cell_type": "markdown",
   "metadata": {},
   "source": [
    "## 面试题 12"
   ]
  },
  {
   "cell_type": "code",
   "execution_count": 50,
   "metadata": {
    "collapsed": false
   },
   "outputs": [],
   "source": [
    "class Solution:\n",
    "    def hasPath(self, matrix, rows, cols, path):\n",
    "        # write code here\n",
    "        if matrix == None or rows <1 or cols <1 or path ==None:\n",
    "            return False\n",
    "        \n",
    "        visited = [0]*(rows*cols)\n",
    "        pathlength = 0\n",
    "        \n",
    "        for row in range(rows):\n",
    "            for col in range(cols):\n",
    "                if self.hasPathCore(matrix,rows,cols,row,col,path,pathlength,visited):\n",
    "                    return True\n",
    "        return False\n",
    "    def hasPathCore(self,matrix,rows,cols,row,col,path,pathLength,visited):\n",
    "        if len(path) == pathLength:\n",
    "            return True\n",
    "        hasPath = False\n",
    "        if row >= 0 and row < rows and col >= 0 and col < cols and matrix[row*cols+col] == path[pathLength] and not visited[row*cols + col]:\n",
    "            pathLength += 1\n",
    "            visited[row*cols+col] = True\n",
    "            hasPath = self.hasPathCore(matrix,rows,cols,row,col - 1,path,pathLength,visited) or \\\n",
    "                    self.hasPathCore(matrix,rows,cols,row - 1,col,path,pathLength,visited) or \\\n",
    "                    self.hasPathCore(matrix,rows,cols,row,col + 1,path,pathLength,visited) or \\\n",
    "                    self.hasPathCore(matrix,rows,cols,row + 1,col,path,pathLength,visited) \n",
    "\n",
    "            if not hasPath:\n",
    "                pathLength -= 1\n",
    "                visited[row*cols+row] = False\n",
    "        return hasPath"
   ]
  },
  {
   "cell_type": "markdown",
   "metadata": {},
   "source": [
    "## 面试题 13  机器人的运动路径"
   ]
  },
  {
   "cell_type": "code",
   "execution_count": 52,
   "metadata": {
    "collapsed": true
   },
   "outputs": [],
   "source": [
    "class Solution:\n",
    "    def movingCount(self, threshold, rows, cols):\n",
    "        # write code here\n",
    "        visited = [False]*(rows*cols)\n",
    "        count = self.movingCountCore(threshold, rows, cols, 0, 0, visited)\n",
    "        return count\n",
    "    def movingCountCore(self,threshold,rows,cols,row,col,visited):\n",
    "        count = 0\n",
    "        if self.check(threshold,rows,cols,row,col,visited):\n",
    "            visited[row*cols+col] = True\n",
    "            count = 1+self.movingCountCore(threshold,rows,cols,row-1,col,visited)+ \\\n",
    "                    self.movingCountCore(threshold,rows,cols,row+1,col,visited)+ \\\n",
    "                    self.movingCountCore(threshold,rows,cols,row,col-1,visited)+ \\\n",
    "                    self.movingCountCore(threshold,rows,cols,row,col+1,visited)\n",
    "        return count\n",
    "    def check(self, threshold,rows,cols,row,col,visited):\n",
    "        if row >= 0 and row <rows and col >=0 and col<cols and self.getDigitSum(row)+self.getDigitSum(col)<=threshold and \\\n",
    "        not visited[row*cols+col]:\n",
    "            return True\n",
    "        return False\n",
    "        \n",
    "    def getDigitSum(self,number):\n",
    "        sum = 0\n",
    "        while number!=0:\n",
    "            sum += number%10\n",
    "            number = number //10\n",
    "        return sum\n",
    "    def movingCount2(self, threshold, rows, cols):\n",
    "        count = 0 \n",
    "        for row in range(rows):\n",
    "            for col in range(cols):\n",
    "                if self.getDigitSum(row)+self.getDigitSum(col)<=threshold:\n",
    "                    count += 1\n",
    "        return count"
   ]
  },
  {
   "cell_type": "markdown",
   "metadata": {
    "collapsed": true
   },
   "source": [
    "## 面试题 15 二进制中1的个数\n"
   ]
  },
  {
   "cell_type": "code",
   "execution_count": 11,
   "metadata": {
    "collapsed": false
   },
   "outputs": [],
   "source": [
    "class Solution:\n",
    "    def NumberOf1(self, n):\n",
    "        # write code here\n",
    "        sumnum = 0\n",
    "        if n < 0:\n",
    "            n = n & 0xffffffff\n",
    "        while n != 0:\n",
    "            sumnum += 1\n",
    "            n = (n - 1) & n\n",
    "        return sumnum\n"
   ]
  },
  {
   "cell_type": "markdown",
   "metadata": {
    "collapsed": true
   },
   "source": [
    "## 面试题 18\n",
    "链表1->2->3->3->4->4->5 处理后为 1->2->5"
   ]
  },
  {
   "cell_type": "code",
   "execution_count": 1,
   "metadata": {
    "collapsed": true
   },
   "outputs": [],
   "source": [
    "-*- coding:utf-8 -*-\n",
    "class ListNode:\n",
    "    def __init__(self, x):\n",
    "        self.val = x\n",
    "        self.next = None\n",
    "class Solution:\n",
    "    def deleteDuplication(self, pHead):\n",
    "        # write code here\n",
    "        first = ListNode(-1)\n",
    "        first.next = pHead\n",
    "        last = first\n",
    "        if pHead==None or pHead.next ==None:\n",
    "            return first.next\n",
    "        \n",
    "        while pHead!=None and pHead.next !=None:\n",
    "            if pHead.val == pHead.next.val:\n",
    "                val = pHead.val\n",
    "                while pHead!=None and val==pHead.val:\n",
    "                    pHead = pHead.next\n",
    "                last.next = pHead\n",
    "            else:\n",
    "                last = pHead\n",
    "                pHead = pHead.next\n",
    "    \n",
    "        return first.next"
   ]
  },
  {
   "cell_type": "markdown",
   "metadata": {
    "collapsed": true
   },
   "source": [
    "## 面试题 19 正则表达式"
   ]
  },
  {
   "cell_type": "code",
   "execution_count": 29,
   "metadata": {
    "collapsed": false
   },
   "outputs": [
    {
     "data": {
      "text/plain": [
       "True"
      ]
     },
     "execution_count": 29,
     "metadata": {},
     "output_type": "execute_result"
    }
   ],
   "source": [
    "class Solution:\n",
    "    # s, pattern都是字符串\n",
    "    def match(self, s, pattern):\n",
    "        # write code here\n",
    "        if s == '' and pattern=='':\n",
    "            return True\n",
    "        elif pattern=='' :\n",
    "            return False\n",
    "        elif s == '':\n",
    "            if len(pattern)<2:\n",
    "                return False\n",
    "            else :\n",
    "                return self.match(s,pattern[2:])\n",
    "\n",
    "        if pattern[0]=='.':\n",
    "            return self.match(s[1:],pattern[1:])\n",
    "        else:\n",
    "            if len(pattern)<2:\n",
    "                if pattern[0]==s[0] :\n",
    "                    return self.match(s[1:],pattern[1:])\n",
    "                else:\n",
    "                    return False\n",
    "            else:\n",
    "                if pattern[1]=='*':\n",
    "                    if pattern[0]!=s[0]:\n",
    "                        return self.match(s,pattern[2:])\n",
    "                    else:\n",
    "                        while pattern[0]==s[0]:\n",
    "                            s = s[1:]\n",
    "                        return self.match(s,pattern[2:])\n",
    "                else:\n",
    "                    if pattern[0]==s[0]:\n",
    "                        return self.match(s[1:],pattern[1:])\n",
    "                    else:\n",
    "                        return False\n",
    "Solution().match('aaa','a.a')"
   ]
  },
  {
   "cell_type": "code",
   "execution_count": 63,
   "metadata": {
    "collapsed": false
   },
   "outputs": [
    {
     "name": "stdout",
     "output_type": "stream",
     "text": [
      "aaa 段 a*a\n",
      "aaa 段 a\n",
      "aa 段 \n",
      "aa 段 a\n",
      "a 段 \n",
      "aa 段 a*a\n",
      "aa 段 a\n",
      "a 段 \n",
      "a 段 a\n",
      " 段 \n"
     ]
    },
    {
     "data": {
      "text/plain": [
       "True"
      ]
     },
     "execution_count": 63,
     "metadata": {},
     "output_type": "execute_result"
    }
   ],
   "source": [
    "class Solution:\n",
    "    # s, pattern都是字符串\n",
    "    def match(self, s, pattern):\n",
    "        print(s,'段',pattern)\n",
    "        if s == '' and pattern =='':\n",
    "            return True\n",
    "        elif s != '' and pattern=='':\n",
    "            return False\n",
    "        elif s == '' and pattern!='':\n",
    "            if len(pattern) > 1 and pattern[1] == '*':\n",
    "                return self.match(s, pattern[2:])\n",
    "            else:\n",
    "                return False\n",
    "            \n",
    "        if len(pattern)<2:\n",
    "            if s[0]==pattern[0] or pattern[0]=='.':\n",
    "                return self.match(s[1:],pattern[1:])\n",
    "            else:\n",
    "                return False\n",
    "        else:\n",
    "            if pattern[1]=='*':\n",
    "                if s[0]!=pattern[0] and pattern[0]!='.':\n",
    "                    return self.match(s,pattern[2:])\n",
    "                else:\n",
    "                    return self.match(s,pattern[2:]) or self.match(s[1:],pattern[2:])or self.match(s[1:],pattern)\n",
    "            else:\n",
    "                if s[0]==pattern[0] or pattern[0] == '.':\n",
    "                    return self.match(s[1:],pattern[1:])\n",
    "                else:\n",
    "                    return False\n",
    "Solution().match('aaa','a*a')"
   ]
  },
  {
   "cell_type": "markdown",
   "metadata": {},
   "source": [
    "## 面试题 20 表示数值的字符串\n",
    "请实现一个函数用来判断字符串是否表示数值（包括整数和小数）。例如，字符串\"+100\",\"5e2\",\"-123\",\"3.1416\"和\"-1E-16\"都表示数值。 但是\"12e\",\"1a3.14\",\"1.2.3\",\"+-5\"和\"12e+4.3\"都不是。"
   ]
  },
  {
   "cell_type": "code",
   "execution_count": 65,
   "metadata": {
    "collapsed": true
   },
   "outputs": [],
   "source": [
    "class Solution:\n",
    "    # s字符串\n",
    "    def isNumeric(self, s):\n",
    "        # write code here\n",
    "        if len(s)<=0:\n",
    "            return False\n",
    "        for i in range(len(s)):\n",
    "             pass"
   ]
  },
  {
   "cell_type": "markdown",
   "metadata": {},
   "source": [
    "## 面试题 21 调整数组顺序，使得奇数位于偶数前面"
   ]
  },
  {
   "cell_type": "code",
   "execution_count": 68,
   "metadata": {
    "collapsed": false
   },
   "outputs": [
    {
     "data": {
      "text/plain": [
       "[1, 3, 5, 2, 4]"
      ]
     },
     "execution_count": 68,
     "metadata": {},
     "output_type": "execute_result"
    }
   ],
   "source": [
    "class Solution:\n",
    "    def reOrderArray(self, array):\n",
    "        # write code here\n",
    "        return sorted(array,key=lambda c:c%2,reverse=True)\n",
    "Solution().reOrderArray([1,2,3,4,5])"
   ]
  },
  {
   "cell_type": "markdown",
   "metadata": {},
   "source": [
    "## 面试题 23  链表中环的入口节点"
   ]
  },
  {
   "cell_type": "code",
   "execution_count": 73,
   "metadata": {
    "collapsed": false
   },
   "outputs": [],
   "source": [
    "class ListNode:\n",
    "    def __init__(self, x):\n",
    "        self.val = x\n",
    "        self.next = None\n",
    "class Solution:\n",
    "    def EntryNodeOfLoop(self, pHead):\n",
    "        # write code here\n",
    "        if pHead==None:\n",
    "            return None\n",
    "        last = pHead\n",
    "        pro = pHead.next\n",
    "        while pro!=None and pro.next!=None  and pro!=last: ##   可以不加这个 and pro.next.next!=None\n",
    "            pro = pro.next.next\n",
    "            last = last.next\n",
    "        if pro != last:\n",
    "            return None\n",
    "        count = 1\n",
    "        temp = pro.next\n",
    "        while temp!=pro:\n",
    "            count+=1\n",
    "            temp = temp.next\n",
    "        pro = pHead\n",
    "        last = pHead\n",
    "        while count>0:\n",
    "            pro=pro.next\n",
    "            count-=1\n",
    "        while pro!=last:\n",
    "            pro = pro.next\n",
    "            last = last.next\n",
    "        return pro\n",
    "Solution().EntryNodeOfLoop(ListNode(0))"
   ]
  },
  {
   "cell_type": "markdown",
   "metadata": {},
   "source": [
    "## 面试题 24 反转链表"
   ]
  },
  {
   "cell_type": "code",
   "execution_count": 74,
   "metadata": {
    "collapsed": true
   },
   "outputs": [],
   "source": [
    "class ListNode:\n",
    "    def __init__(self, x):\n",
    "        self.val = x\n",
    "        self.next = None\n",
    "class Solution:\n",
    "    # 返回ListNode\n",
    "    def ReverseList(self, pHead):\n",
    "        proNode = None\n",
    "        nowNode = pHead\n",
    "        \n",
    "        if pHead ==None:\n",
    "            return None\n",
    "        elif pHead.next == None:\n",
    "            return pHead\n",
    "        \n",
    "        lastNode = now.next\n",
    "        \n",
    "        while lastNode != None:\n",
    "            nowNode.next = proNode\n",
    "            proNode = nowNode\n",
    "            nowNode = lastNode\n",
    "            lastNode = lastNode.next\n",
    "        nowNode.next = proNode\n",
    "        return nowNode\n",
    "        \n",
    "class Solution:\n",
    "    # 返回ListNode\n",
    "    def ReverseList(self, pHead):\n",
    "        # write code here\n",
    "        if not pHead or not pHead.next:\n",
    "            return pHead\n",
    "        else:\n",
    "            newHead = self.ReverseList(pHead.next)\n",
    "            pHead.next.next=pHead\n",
    "            pHead.next=None\n",
    "            return newHead\n",
    "    "
   ]
  },
  {
   "cell_type": "markdown",
   "metadata": {},
   "source": [
    "## 面试题 28 对称的二叉树"
   ]
  },
  {
   "cell_type": "code",
   "execution_count": 80,
   "metadata": {
    "collapsed": false
   },
   "outputs": [],
   "source": [
    "class TreeNode:\n",
    "    def __init__(self, x):\n",
    "        self.val = x\n",
    "        self.left = None\n",
    "        self.right = None\n",
    "class Solution:\n",
    "    def isSymmetrical(self, pRoot):\n",
    "        # write code here\n",
    "        return self.isSymmetricalCore(pRoot,pRoot)\n",
    "    def isSymmetricalCore(self,pRoot1,pRoot2):\n",
    "        if pRoot1==None and pRoot2==None:\n",
    "            return True\n",
    "        if pRoot1==None or pRoot2==None:\n",
    "            return False\n",
    "        if pRoot1.val!=pRoot2.val:\n",
    "            return False\n",
    "        return self.isSymmetricalCore(pRoot1.left,pRoot2.right) and self.isSymmetricalCore(pRoot1.right,pRoot2.left)"
   ]
  },
  {
   "cell_type": "markdown",
   "metadata": {},
   "source": [
    "## 面试题 32  打印多行   树 分行打印"
   ]
  },
  {
   "cell_type": "code",
   "execution_count": 83,
   "metadata": {
    "collapsed": false
   },
   "outputs": [],
   "source": [
    "class TreeNode:\n",
    "    def __init__(self, x):\n",
    "        self.val = x\n",
    "        self.left = None\n",
    "        self.right = None\n",
    "class Solution:\n",
    "    # 返回二维列表[[1,2],[4,5]]\n",
    "    def Print(self, pRoot):\n",
    "        # write code here    \n",
    "        if pRoot == None:\n",
    "            return [[]]\n",
    "        que = [pRoot]\n",
    "        printnum = []\n",
    "        while que!=[]:\n",
    "\n",
    "            length = len(que)\n",
    "            temp = []\n",
    "            index = 0\n",
    "            while index<length:\n",
    "                temp.append(que[index].val)\n",
    "                index += 1\n",
    "            printnum.append(temp)\n",
    "            index = 0\n",
    "            while index<length:\n",
    "                index+=1\n",
    "                key = que.pop(0)\n",
    "                if key.left!=None:\n",
    "                    que.append(key.left)\n",
    "                if key.right!=None:\n",
    "                    que.append(key.right)\n",
    "            \n",
    "        return printnum"
   ]
  },
  {
   "cell_type": "markdown",
   "metadata": {},
   "source": [
    "## 面试题 32 按之字型打印二叉树\n",
    "请实现一个函数按照之字形打印二叉树，即第一行按照从左到右的顺序打印，第二层按照从右至左的顺序打印，第三行按照从左到右的顺序打印，其他行以此类推。"
   ]
  },
  {
   "cell_type": "code",
   "execution_count": 84,
   "metadata": {
    "collapsed": true
   },
   "outputs": [],
   "source": [
    "class TreeNode:\n",
    "    def __init__(self, x):\n",
    "        self.val = x\n",
    "        self.left = None\n",
    "        self.right = None\n",
    "class Solution:\n",
    "    def Print(self, pRoot):\n",
    "        # write code here    \n",
    "        if pRoot == None:\n",
    "            return [[]]\n",
    "        que = [pRoot]\n",
    "        printnum = []\n",
    "        row = 0\n",
    "        while que!=[]:\n",
    "\n",
    "            length = len(que)\n",
    "            temp = []\n",
    "            index = 0\n",
    "            while index<length:\n",
    "                temp.append(que[index].val)\n",
    "                index += 1\n",
    "            if row&1==0:\n",
    "                printnum.append(temp)\n",
    "            else:\n",
    "                printnum.append(reversed(temp))\n",
    "            row+=1\n",
    "            index = 0\n",
    "            while index<length:\n",
    "                index+=1\n",
    "                key = que.pop(0)\n",
    "                if key.left!=None:\n",
    "                    que.append(key.left)\n",
    "                if key.right!=None:\n",
    "                    que.append(key.right)\n",
    "            \n",
    "        return printnum"
   ]
  },
  {
   "cell_type": "markdown",
   "metadata": {
    "collapsed": false
   },
   "source": [
    "## 面试题 34 二叉树中和为某一值得路径\n",
    "输入一颗二叉树的跟节点和一个整数，打印出二叉树中结点值的和为输入整数的所有路径。路径定义为从树的根结点开始往下一直到叶结点所经过的结点形成一条路径。(注意: 在返回值的list中，数组长度大的数组靠前)"
   ]
  },
  {
   "cell_type": "code",
   "execution_count": null,
   "metadata": {
    "collapsed": true
   },
   "outputs": [],
   "source": [
    "class TreeNode:\n",
    "    def __init__(self, x):\n",
    "        self.val = x\n",
    "        self.left = None\n",
    "        self.right = None\n",
    "class Solution:\n",
    "    # 返回二维列表，内部每个列表表示找到的路径\n",
    "    def FindPath(self, root, expectNumber):\n",
    "        # write code here\n",
    "        if root == None:\n",
    "            return []\n",
    "        elif root.val == expectNumber and root.left==None and root.right ==None:\n",
    "            return [root.val]\n",
    "        else:\n",
    "            temp = []\n",
    "            temp.append(root.val)\n",
    "            left = self.FindPath(root.left,expectNumber-root.val)\n",
    "            right = self.FindPath(root.right,expectNumber-root.val)\n",
    "            if left = [] and right = []:\n",
    "                temp.pop()\n",
    "            temp+left\n",
    "            return temp\n",
    "class Solution:\n",
    "    def FindPath(self, root, expectNumber):\n",
    "        if (root is None):\n",
    "            return []\n",
    "        if (root and not root.left and not root.right and root.val == expectNumber):\n",
    "            return [[root.val]]\n",
    "        pathList = []\n",
    "        left = self.FindPath(root.left, expectNumber - root.val)\n",
    "        right = self.FindPath(root.right, expectNumber - root.val)\n",
    "        for i in (left + right):\n",
    "            pathList.append([root.val] + i)\n",
    "        return pathList"
   ]
  }
 ],
 "metadata": {
  "anaconda-cloud": {},
  "kernelspec": {
   "display_name": "Python [conda root]",
   "language": "python",
   "name": "conda-root-py"
  },
  "language_info": {
   "codemirror_mode": {
    "name": "ipython",
    "version": 3
   },
   "file_extension": ".py",
   "mimetype": "text/x-python",
   "name": "python",
   "nbconvert_exporter": "python",
   "pygments_lexer": "ipython3",
   "version": "3.5.2"
  }
 },
 "nbformat": 4,
 "nbformat_minor": 1
}
