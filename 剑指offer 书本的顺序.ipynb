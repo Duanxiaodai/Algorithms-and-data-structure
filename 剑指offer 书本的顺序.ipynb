{
 "cells": [
  {
   "cell_type": "markdown",
   "metadata": {},
   "source": [
    "## 面试题 8 "
   ]
  },
  {
   "cell_type": "code",
   "execution_count": 1,
   "metadata": {
    "collapsed": true
   },
   "outputs": [],
   "source": [
    "class TreeLinkNode:\n",
    "    def __init__(self, x):\n",
    "        self.val = x\n",
    "        self.left = None\n",
    "        self.right = None\n",
    "        self.next = None\n",
    "class Solution:\n",
    "    def GetNext(self, pNode):\n",
    "        # write code here\n",
    "        if pNode.right != None:\n",
    "            temp = pNode.right\n",
    "            while temp.left != None:\n",
    "                temp = temp.left\n",
    "            return temp\n",
    "        elif pNode.next!=None and pNode.next.left == pNode:\n",
    "            return pNode.next\n",
    "        else:\n",
    "            temp = pNode.next\n",
    "            while  temp.next!=None and temp.next.left!=temp:\n",
    "                temp = temp.next\n",
    "            return temp.next\n",
    "            "
   ]
  },
  {
   "cell_type": "markdown",
   "metadata": {},
   "source": [
    "## 面试题 11"
   ]
  },
  {
   "cell_type": "code",
   "execution_count": 13,
   "metadata": {
    "collapsed": false
   },
   "outputs": [
    {
     "data": {
      "text/plain": [
       "0"
      ]
     },
     "execution_count": 13,
     "metadata": {},
     "output_type": "execute_result"
    }
   ],
   "source": [
    "class Solution:\n",
    "    def minNumberInRotateArray(self, rotateArray):## 这种情况有bug   [1,1,0,1,1]    \n",
    "        # write code here\n",
    "        if len(rotateArray) == 0:\n",
    "            return 0\n",
    "        i = 0\n",
    "        j = len(rotateArray)-1\n",
    "        while j-i != 1:\n",
    "            mid = (i+j)//2\n",
    "            if rotateArray[mid]>=rotateArray[i]:\n",
    "                i = mid\n",
    "            elif rotateArray[mid]<=rotateArray[j]:\n",
    "                j = mid\n",
    "        return rotateArray[j]\n",
    "Solution().minNumberInRotateArray([1,1,0,1,1])"
   ]
  },
  {
   "cell_type": "markdown",
   "metadata": {},
   "source": [
    "## 面试题 12"
   ]
  },
  {
   "cell_type": "code",
   "execution_count": 50,
   "metadata": {
    "collapsed": false
   },
   "outputs": [],
   "source": [
    "class Solution:\n",
    "    def hasPath(self, matrix, rows, cols, path):\n",
    "        # write code here\n",
    "        if matrix == None or rows <1 or cols <1 or path ==None:\n",
    "            return False\n",
    "        \n",
    "        visited = [0]*(rows*cols)\n",
    "        pathlength = 0\n",
    "        \n",
    "        for row in range(rows):\n",
    "            for col in range(cols):\n",
    "                if self.hasPathCore(matrix,rows,cols,row,col,path,pathlength,visited):\n",
    "                    return True\n",
    "        return False\n",
    "    def hasPathCore(self,matrix,rows,cols,row,col,path,pathLength,visited):\n",
    "        if len(path) == pathLength:\n",
    "            return True\n",
    "        hasPath = False\n",
    "        if row >= 0 and row < rows and col >= 0 and col < cols and matrix[row*cols+col] == path[pathLength] and not visited[row*cols + col]:\n",
    "            pathLength += 1\n",
    "            visited[row*cols+col] = True\n",
    "            hasPath = self.hasPathCore(matrix,rows,cols,row,col - 1,path,pathLength,visited) or \\\n",
    "                    self.hasPathCore(matrix,rows,cols,row - 1,col,path,pathLength,visited) or \\\n",
    "                    self.hasPathCore(matrix,rows,cols,row,col + 1,path,pathLength,visited) or \\\n",
    "                    self.hasPathCore(matrix,rows,cols,row + 1,col,path,pathLength,visited) \n",
    "\n",
    "            if not hasPath:\n",
    "                pathLength -= 1\n",
    "                visited[row*cols+row] = False\n",
    "        return hasPath"
   ]
  },
  {
   "cell_type": "markdown",
   "metadata": {},
   "source": [
    "## 面试题 13  机器人的运动路径"
   ]
  },
  {
   "cell_type": "code",
   "execution_count": 52,
   "metadata": {
    "collapsed": true
   },
   "outputs": [],
   "source": [
    "class Solution:\n",
    "    def movingCount(self, threshold, rows, cols):\n",
    "        # write code here\n",
    "        visited = [False]*(rows*cols)\n",
    "        count = self.movingCountCore(threshold, rows, cols, 0, 0, visited)\n",
    "        return count\n",
    "    def movingCountCore(self,threshold,rows,cols,row,col,visited):\n",
    "        count = 0\n",
    "        if self.check(threshold,rows,cols,row,col,visited):\n",
    "            visited[row*cols+col] = True\n",
    "            count = 1+self.movingCountCore(threshold,rows,cols,row-1,col,visited)+ \\\n",
    "                    self.movingCountCore(threshold,rows,cols,row+1,col,visited)+ \\\n",
    "                    self.movingCountCore(threshold,rows,cols,row,col-1,visited)+ \\\n",
    "                    self.movingCountCore(threshold,rows,cols,row,col+1,visited)\n",
    "        return count\n",
    "    def check(self, threshold,rows,cols,row,col,visited):\n",
    "        if row >= 0 and row <rows and col >=0 and col<cols and self.getDigitSum(row)+self.getDigitSum(col)<=threshold and \\\n",
    "        not visited[row*cols+col]:\n",
    "            return True\n",
    "        return False\n",
    "        \n",
    "    def getDigitSum(self,number):\n",
    "        sum = 0\n",
    "        while number!=0:\n",
    "            sum += number%10\n",
    "            number = number //10\n",
    "        return sum\n",
    "    def movingCount2(self, threshold, rows, cols):\n",
    "        count = 0 \n",
    "        for row in range(rows):\n",
    "            for col in range(cols):\n",
    "                if self.getDigitSum(row)+self.getDigitSum(col)<=threshold:\n",
    "                    count += 1\n",
    "        return count"
   ]
  },
  {
   "cell_type": "markdown",
   "metadata": {
    "collapsed": true
   },
   "source": [
    "## 面试题 15 二进制中1的个数\n"
   ]
  },
  {
   "cell_type": "code",
   "execution_count": 11,
   "metadata": {
    "collapsed": false
   },
   "outputs": [],
   "source": [
    "class Solution:\n",
    "    def NumberOf1(self, n):\n",
    "        # write code here\n",
    "        sumnum = 0\n",
    "        if n < 0:\n",
    "            n = n & 0xffffffff\n",
    "        while n != 0:\n",
    "            sumnum += 1\n",
    "            n = (n - 1) & n\n",
    "        return sumnum\n"
   ]
  },
  {
   "cell_type": "code",
   "execution_count": null,
   "metadata": {
    "collapsed": true
   },
   "outputs": [],
   "source": []
  },
  {
   "cell_type": "code",
   "execution_count": null,
   "metadata": {
    "collapsed": true
   },
   "outputs": [],
   "source": []
  },
  {
   "cell_type": "code",
   "execution_count": null,
   "metadata": {
    "collapsed": true
   },
   "outputs": [],
   "source": []
  },
  {
   "cell_type": "code",
   "execution_count": 6,
   "metadata": {
    "collapsed": false
   },
   "outputs": [
    {
     "data": {
      "text/plain": [
       "1"
      ]
     },
     "execution_count": 6,
     "metadata": {},
     "output_type": "execute_result"
    }
   ],
   "source": [
    "class Solution:\n",
    "    def Power(self, base, exponent):\n",
    "        # write code here\n",
    "        temp = 1\n",
    "        for i in range(abs(exponent)):\n",
    "            temp = temp*base\n",
    "        if exponent<0:\n",
    "            return 1/temp\n",
    "        return temp\n",
    "Solution().Power(2,0)"
   ]
  },
  {
   "cell_type": "code",
   "execution_count": null,
   "metadata": {
    "collapsed": true
   },
   "outputs": [],
   "source": []
  }
 ],
 "metadata": {
  "anaconda-cloud": {},
  "kernelspec": {
   "display_name": "Python [conda root]",
   "language": "python",
   "name": "conda-root-py"
  },
  "language_info": {
   "codemirror_mode": {
    "name": "ipython",
    "version": 3
   },
   "file_extension": ".py",
   "mimetype": "text/x-python",
   "name": "python",
   "nbconvert_exporter": "python",
   "pygments_lexer": "ipython3",
   "version": "3.5.2"
  }
 },
 "nbformat": 4,
 "nbformat_minor": 1
}
